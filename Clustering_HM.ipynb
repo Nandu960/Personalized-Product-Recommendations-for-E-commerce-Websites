{
  "cells": [
    {
      "cell_type": "code",
      "execution_count": 2,
      "id": "b76fcd03",
      "metadata": {
        "id": "b76fcd03"
      },
      "outputs": [],
      "source": [
        "# Import the required libraries\n",
        "import pandas as pd\n",
        "import numpy as np\n",
        "import os\n",
        "import re\n",
        "import matplotlib.pyplot as plt\n",
        "import matplotlib.image as mpimg\n",
        "import matplotlib.cm as cm\n",
        "import seaborn as sns\n",
        "import gc\n",
        "import random as rd\n",
        "from sklearn.model_selection import train_test_split\n",
        "from tqdm.notebook import tqdm\n",
        "from sklearn.cluster import KMeans\n",
        "from sklearn.decomposition import PCA\n",
        "from datetime import datetime"
      ]
    },
    {
      "cell_type": "code",
      "execution_count": null,
      "id": "0608eabf",
      "metadata": {
        "id": "0608eabf"
      },
      "outputs": [],
      "source": [
        "customers_df=pd.read_csv('customers_subset.csv')\n",
        "transactions_df=pd.read_csv('transactions_train_subset.csv')\n",
        "articles_df=pd.read_csv('articles_subset.csv')"
      ]
    },
    {
      "cell_type": "code",
      "execution_count": null,
      "id": "93878de3",
      "metadata": {
        "id": "93878de3",
        "outputId": "24809543-f0e2-4f5e-f3b7-495657ed7fe7"
      },
      "outputs": [
        {
          "data": {
            "text/html": [
              "<div>\n",
              "<style scoped>\n",
              "    .dataframe tbody tr th:only-of-type {\n",
              "        vertical-align: middle;\n",
              "    }\n",
              "\n",
              "    .dataframe tbody tr th {\n",
              "        vertical-align: top;\n",
              "    }\n",
              "\n",
              "    .dataframe thead th {\n",
              "        text-align: right;\n",
              "    }\n",
              "</style>\n",
              "<table border=\"1\" class=\"dataframe\">\n",
              "  <thead>\n",
              "    <tr style=\"text-align: right;\">\n",
              "      <th></th>\n",
              "      <th>customer_id</th>\n",
              "      <th>FN</th>\n",
              "      <th>Active</th>\n",
              "      <th>club_member_status</th>\n",
              "      <th>fashion_news_frequency</th>\n",
              "      <th>age</th>\n",
              "      <th>postal_code</th>\n",
              "    </tr>\n",
              "  </thead>\n",
              "  <tbody>\n",
              "    <tr>\n",
              "      <th>0</th>\n",
              "      <td>00000dbacae5abe5e23885899a1fa44253a17956c6d1c3...</td>\n",
              "      <td>NaN</td>\n",
              "      <td>NaN</td>\n",
              "      <td>ACTIVE</td>\n",
              "      <td>NONE</td>\n",
              "      <td>49.0</td>\n",
              "      <td>52043ee2162cf5aa7ee79974281641c6f11a68d276429a...</td>\n",
              "    </tr>\n",
              "    <tr>\n",
              "      <th>1</th>\n",
              "      <td>0000423b00ade91418cceaf3b26c6af3dd342b51fd051e...</td>\n",
              "      <td>NaN</td>\n",
              "      <td>NaN</td>\n",
              "      <td>ACTIVE</td>\n",
              "      <td>NONE</td>\n",
              "      <td>25.0</td>\n",
              "      <td>2973abc54daa8a5f8ccfe9362140c63247c5eee03f1d93...</td>\n",
              "    </tr>\n",
              "    <tr>\n",
              "      <th>2</th>\n",
              "      <td>000058a12d5b43e67d225668fa1f8d618c13dc232df0ca...</td>\n",
              "      <td>NaN</td>\n",
              "      <td>NaN</td>\n",
              "      <td>ACTIVE</td>\n",
              "      <td>NONE</td>\n",
              "      <td>24.0</td>\n",
              "      <td>64f17e6a330a85798e4998f62d0930d14db8db1c054af6...</td>\n",
              "    </tr>\n",
              "    <tr>\n",
              "      <th>3</th>\n",
              "      <td>00005ca1c9ed5f5146b52ac8639a40ca9d57aeff4d1bd2...</td>\n",
              "      <td>NaN</td>\n",
              "      <td>NaN</td>\n",
              "      <td>ACTIVE</td>\n",
              "      <td>NONE</td>\n",
              "      <td>54.0</td>\n",
              "      <td>5d36574f52495e81f019b680c843c443bd343d5ca5b1c2...</td>\n",
              "    </tr>\n",
              "    <tr>\n",
              "      <th>4</th>\n",
              "      <td>00006413d8573cd20ed7128e53b7b13819fe5cfc2d801f...</td>\n",
              "      <td>1.0</td>\n",
              "      <td>1.0</td>\n",
              "      <td>ACTIVE</td>\n",
              "      <td>Regularly</td>\n",
              "      <td>52.0</td>\n",
              "      <td>25fa5ddee9aac01b35208d01736e57942317d756b32ddd...</td>\n",
              "    </tr>\n",
              "    <tr>\n",
              "      <th>...</th>\n",
              "      <td>...</td>\n",
              "      <td>...</td>\n",
              "      <td>...</td>\n",
              "      <td>...</td>\n",
              "      <td>...</td>\n",
              "      <td>...</td>\n",
              "      <td>...</td>\n",
              "    </tr>\n",
              "    <tr>\n",
              "      <th>1371975</th>\n",
              "      <td>ffffbbf78b6eaac697a8a5dfbfd2bfa8113ee5b403e474...</td>\n",
              "      <td>NaN</td>\n",
              "      <td>NaN</td>\n",
              "      <td>ACTIVE</td>\n",
              "      <td>NONE</td>\n",
              "      <td>24.0</td>\n",
              "      <td>7aa399f7e669990daba2d92c577b52237380662f36480b...</td>\n",
              "    </tr>\n",
              "    <tr>\n",
              "      <th>1371976</th>\n",
              "      <td>ffffcd5046a6143d29a04fb8c424ce494a76e5cdf4fab5...</td>\n",
              "      <td>NaN</td>\n",
              "      <td>NaN</td>\n",
              "      <td>ACTIVE</td>\n",
              "      <td>NONE</td>\n",
              "      <td>21.0</td>\n",
              "      <td>3f47f1279beb72215f4de557d950e0bfa73789d24acb5e...</td>\n",
              "    </tr>\n",
              "    <tr>\n",
              "      <th>1371977</th>\n",
              "      <td>ffffcf35913a0bee60e8741cb2b4e78b8a98ee5ff2e6a1...</td>\n",
              "      <td>1.0</td>\n",
              "      <td>1.0</td>\n",
              "      <td>ACTIVE</td>\n",
              "      <td>Regularly</td>\n",
              "      <td>21.0</td>\n",
              "      <td>4563fc79215672cd6a863f2b4bf56b8f898f2d96ed590e...</td>\n",
              "    </tr>\n",
              "    <tr>\n",
              "      <th>1371978</th>\n",
              "      <td>ffffd7744cebcf3aca44ae7049d2a94b87074c3d4ffe38...</td>\n",
              "      <td>1.0</td>\n",
              "      <td>1.0</td>\n",
              "      <td>ACTIVE</td>\n",
              "      <td>Regularly</td>\n",
              "      <td>18.0</td>\n",
              "      <td>8892c18e9bc3dca6aa4000cb8094fc4b51ee8db2ed14d7...</td>\n",
              "    </tr>\n",
              "    <tr>\n",
              "      <th>1371979</th>\n",
              "      <td>ffffd9ac14e89946416d80e791d064701994755c3ab686...</td>\n",
              "      <td>NaN</td>\n",
              "      <td>NaN</td>\n",
              "      <td>PRE-CREATE</td>\n",
              "      <td>NONE</td>\n",
              "      <td>65.0</td>\n",
              "      <td>0a1a03306fb2f62164c2a439b38c0caa64b40deaae8687...</td>\n",
              "    </tr>\n",
              "  </tbody>\n",
              "</table>\n",
              "<p>1371980 rows × 7 columns</p>\n",
              "</div>"
            ],
            "text/plain": [
              "                                               customer_id   FN  Active  \\\n",
              "0        00000dbacae5abe5e23885899a1fa44253a17956c6d1c3...  NaN     NaN   \n",
              "1        0000423b00ade91418cceaf3b26c6af3dd342b51fd051e...  NaN     NaN   \n",
              "2        000058a12d5b43e67d225668fa1f8d618c13dc232df0ca...  NaN     NaN   \n",
              "3        00005ca1c9ed5f5146b52ac8639a40ca9d57aeff4d1bd2...  NaN     NaN   \n",
              "4        00006413d8573cd20ed7128e53b7b13819fe5cfc2d801f...  1.0     1.0   \n",
              "...                                                    ...  ...     ...   \n",
              "1371975  ffffbbf78b6eaac697a8a5dfbfd2bfa8113ee5b403e474...  NaN     NaN   \n",
              "1371976  ffffcd5046a6143d29a04fb8c424ce494a76e5cdf4fab5...  NaN     NaN   \n",
              "1371977  ffffcf35913a0bee60e8741cb2b4e78b8a98ee5ff2e6a1...  1.0     1.0   \n",
              "1371978  ffffd7744cebcf3aca44ae7049d2a94b87074c3d4ffe38...  1.0     1.0   \n",
              "1371979  ffffd9ac14e89946416d80e791d064701994755c3ab686...  NaN     NaN   \n",
              "\n",
              "        club_member_status fashion_news_frequency   age  \\\n",
              "0                   ACTIVE                   NONE  49.0   \n",
              "1                   ACTIVE                   NONE  25.0   \n",
              "2                   ACTIVE                   NONE  24.0   \n",
              "3                   ACTIVE                   NONE  54.0   \n",
              "4                   ACTIVE              Regularly  52.0   \n",
              "...                    ...                    ...   ...   \n",
              "1371975             ACTIVE                   NONE  24.0   \n",
              "1371976             ACTIVE                   NONE  21.0   \n",
              "1371977             ACTIVE              Regularly  21.0   \n",
              "1371978             ACTIVE              Regularly  18.0   \n",
              "1371979         PRE-CREATE                   NONE  65.0   \n",
              "\n",
              "                                               postal_code  \n",
              "0        52043ee2162cf5aa7ee79974281641c6f11a68d276429a...  \n",
              "1        2973abc54daa8a5f8ccfe9362140c63247c5eee03f1d93...  \n",
              "2        64f17e6a330a85798e4998f62d0930d14db8db1c054af6...  \n",
              "3        5d36574f52495e81f019b680c843c443bd343d5ca5b1c2...  \n",
              "4        25fa5ddee9aac01b35208d01736e57942317d756b32ddd...  \n",
              "...                                                    ...  \n",
              "1371975  7aa399f7e669990daba2d92c577b52237380662f36480b...  \n",
              "1371976  3f47f1279beb72215f4de557d950e0bfa73789d24acb5e...  \n",
              "1371977  4563fc79215672cd6a863f2b4bf56b8f898f2d96ed590e...  \n",
              "1371978  8892c18e9bc3dca6aa4000cb8094fc4b51ee8db2ed14d7...  \n",
              "1371979  0a1a03306fb2f62164c2a439b38c0caa64b40deaae8687...  \n",
              "\n",
              "[1371980 rows x 7 columns]"
            ]
          },
          "execution_count": 4,
          "metadata": {},
          "output_type": "execute_result"
        }
      ],
      "source": [
        "customer_df"
      ]
    },
    {
      "cell_type": "code",
      "execution_count": null,
      "id": "b4180a62",
      "metadata": {
        "id": "b4180a62"
      },
      "outputs": [],
      "source": [
        "customer_subset_df=customer_df.sample(frac=0.025)"
      ]
    },
    {
      "cell_type": "code",
      "execution_count": null,
      "id": "5e170db1",
      "metadata": {
        "id": "5e170db1",
        "outputId": "1e9103bc-4bdf-4ce4-d876-e29ac93fe751"
      },
      "outputs": [
        {
          "data": {
            "text/html": [
              "<div>\n",
              "<style scoped>\n",
              "    .dataframe tbody tr th:only-of-type {\n",
              "        vertical-align: middle;\n",
              "    }\n",
              "\n",
              "    .dataframe tbody tr th {\n",
              "        vertical-align: top;\n",
              "    }\n",
              "\n",
              "    .dataframe thead th {\n",
              "        text-align: right;\n",
              "    }\n",
              "</style>\n",
              "<table border=\"1\" class=\"dataframe\">\n",
              "  <thead>\n",
              "    <tr style=\"text-align: right;\">\n",
              "      <th></th>\n",
              "      <th>customer_id</th>\n",
              "      <th>FN</th>\n",
              "      <th>Active</th>\n",
              "      <th>club_member_status</th>\n",
              "      <th>fashion_news_frequency</th>\n",
              "      <th>age</th>\n",
              "      <th>postal_code</th>\n",
              "    </tr>\n",
              "  </thead>\n",
              "  <tbody>\n",
              "    <tr>\n",
              "      <th>166374</th>\n",
              "      <td>1eff46f4dcf56773ce37fb0be3b1d74f516c6df6474318...</td>\n",
              "      <td>1.0</td>\n",
              "      <td>1.0</td>\n",
              "      <td>ACTIVE</td>\n",
              "      <td>Regularly</td>\n",
              "      <td>19.0</td>\n",
              "      <td>62d233fbd67594a3b41fe310b315111498cdd1ed9bd78c...</td>\n",
              "    </tr>\n",
              "    <tr>\n",
              "      <th>15815</th>\n",
              "      <td>02f1b41ba688aea08bde7ce3e2c36df87b8c6f8d0d5f6f...</td>\n",
              "      <td>1.0</td>\n",
              "      <td>1.0</td>\n",
              "      <td>ACTIVE</td>\n",
              "      <td>Regularly</td>\n",
              "      <td>34.0</td>\n",
              "      <td>023dab68ffccadf30c12e13abf467ee74e14a33abfb448...</td>\n",
              "    </tr>\n",
              "    <tr>\n",
              "      <th>1308101</th>\n",
              "      <td>f41abbc77882baacdde7f6d953ff795b10d71af561630f...</td>\n",
              "      <td>NaN</td>\n",
              "      <td>NaN</td>\n",
              "      <td>ACTIVE</td>\n",
              "      <td>NONE</td>\n",
              "      <td>49.0</td>\n",
              "      <td>71f5b4b6cad8896d7784f86bb481b0f706a42c1f09056f...</td>\n",
              "    </tr>\n",
              "    <tr>\n",
              "      <th>1015863</th>\n",
              "      <td>bd90c287089542e55d17d30eed5e50a9c451c255c7bd61...</td>\n",
              "      <td>NaN</td>\n",
              "      <td>NaN</td>\n",
              "      <td>ACTIVE</td>\n",
              "      <td>NONE</td>\n",
              "      <td>26.0</td>\n",
              "      <td>cb0dd20a8f0b31c3ebe6c45e955baccd667d12e8770690...</td>\n",
              "    </tr>\n",
              "    <tr>\n",
              "      <th>629313</th>\n",
              "      <td>756dbd04fb4477530792455563fa26cf9255e70b9e45ab...</td>\n",
              "      <td>NaN</td>\n",
              "      <td>NaN</td>\n",
              "      <td>ACTIVE</td>\n",
              "      <td>NONE</td>\n",
              "      <td>33.0</td>\n",
              "      <td>0fbb38ed2abb05d47cd8ab7eb91c8a86e8bb1a6c646054...</td>\n",
              "    </tr>\n",
              "    <tr>\n",
              "      <th>...</th>\n",
              "      <td>...</td>\n",
              "      <td>...</td>\n",
              "      <td>...</td>\n",
              "      <td>...</td>\n",
              "      <td>...</td>\n",
              "      <td>...</td>\n",
              "      <td>...</td>\n",
              "    </tr>\n",
              "    <tr>\n",
              "      <th>698268</th>\n",
              "      <td>825bc648dcebde4a71ddd43ff74295573b918def6126f1...</td>\n",
              "      <td>1.0</td>\n",
              "      <td>1.0</td>\n",
              "      <td>ACTIVE</td>\n",
              "      <td>Regularly</td>\n",
              "      <td>57.0</td>\n",
              "      <td>a119c5c25eaa0a447ce8ca888805987dbc6a675007cb8d...</td>\n",
              "    </tr>\n",
              "    <tr>\n",
              "      <th>1362122</th>\n",
              "      <td>fe2442834afb071d6023df94a365f7b61b70fd7708f817...</td>\n",
              "      <td>1.0</td>\n",
              "      <td>1.0</td>\n",
              "      <td>ACTIVE</td>\n",
              "      <td>Regularly</td>\n",
              "      <td>44.0</td>\n",
              "      <td>443398ecc0104a2d00c09a8982f0dd86e16720c2641a71...</td>\n",
              "    </tr>\n",
              "    <tr>\n",
              "      <th>1019824</th>\n",
              "      <td>be4a9028a7f767f78bff1c3317985a3cbd0b176d1fcce4...</td>\n",
              "      <td>NaN</td>\n",
              "      <td>NaN</td>\n",
              "      <td>ACTIVE</td>\n",
              "      <td>NONE</td>\n",
              "      <td>27.0</td>\n",
              "      <td>4665f2b1ebfa8237320e85f8bedaaf856bab3f7cabde09...</td>\n",
              "    </tr>\n",
              "    <tr>\n",
              "      <th>953</th>\n",
              "      <td>002cf1f04759099673674302eaa5d535193cd3b3e3d605...</td>\n",
              "      <td>1.0</td>\n",
              "      <td>1.0</td>\n",
              "      <td>ACTIVE</td>\n",
              "      <td>Regularly</td>\n",
              "      <td>27.0</td>\n",
              "      <td>c5f2af92af434806bffef30763a5ef30f08298c9d31668...</td>\n",
              "    </tr>\n",
              "    <tr>\n",
              "      <th>210781</th>\n",
              "      <td>2751f829276ccc729d4d9ef8fc58f6c62d775bd434acde...</td>\n",
              "      <td>NaN</td>\n",
              "      <td>NaN</td>\n",
              "      <td>ACTIVE</td>\n",
              "      <td>NONE</td>\n",
              "      <td>34.0</td>\n",
              "      <td>496760818f78bb6e8e246de83ea54b61342866b44c519e...</td>\n",
              "    </tr>\n",
              "  </tbody>\n",
              "</table>\n",
              "<p>34300 rows × 7 columns</p>\n",
              "</div>"
            ],
            "text/plain": [
              "                                               customer_id   FN  Active  \\\n",
              "166374   1eff46f4dcf56773ce37fb0be3b1d74f516c6df6474318...  1.0     1.0   \n",
              "15815    02f1b41ba688aea08bde7ce3e2c36df87b8c6f8d0d5f6f...  1.0     1.0   \n",
              "1308101  f41abbc77882baacdde7f6d953ff795b10d71af561630f...  NaN     NaN   \n",
              "1015863  bd90c287089542e55d17d30eed5e50a9c451c255c7bd61...  NaN     NaN   \n",
              "629313   756dbd04fb4477530792455563fa26cf9255e70b9e45ab...  NaN     NaN   \n",
              "...                                                    ...  ...     ...   \n",
              "698268   825bc648dcebde4a71ddd43ff74295573b918def6126f1...  1.0     1.0   \n",
              "1362122  fe2442834afb071d6023df94a365f7b61b70fd7708f817...  1.0     1.0   \n",
              "1019824  be4a9028a7f767f78bff1c3317985a3cbd0b176d1fcce4...  NaN     NaN   \n",
              "953      002cf1f04759099673674302eaa5d535193cd3b3e3d605...  1.0     1.0   \n",
              "210781   2751f829276ccc729d4d9ef8fc58f6c62d775bd434acde...  NaN     NaN   \n",
              "\n",
              "        club_member_status fashion_news_frequency   age  \\\n",
              "166374              ACTIVE              Regularly  19.0   \n",
              "15815               ACTIVE              Regularly  34.0   \n",
              "1308101             ACTIVE                   NONE  49.0   \n",
              "1015863             ACTIVE                   NONE  26.0   \n",
              "629313              ACTIVE                   NONE  33.0   \n",
              "...                    ...                    ...   ...   \n",
              "698268              ACTIVE              Regularly  57.0   \n",
              "1362122             ACTIVE              Regularly  44.0   \n",
              "1019824             ACTIVE                   NONE  27.0   \n",
              "953                 ACTIVE              Regularly  27.0   \n",
              "210781              ACTIVE                   NONE  34.0   \n",
              "\n",
              "                                               postal_code  \n",
              "166374   62d233fbd67594a3b41fe310b315111498cdd1ed9bd78c...  \n",
              "15815    023dab68ffccadf30c12e13abf467ee74e14a33abfb448...  \n",
              "1308101  71f5b4b6cad8896d7784f86bb481b0f706a42c1f09056f...  \n",
              "1015863  cb0dd20a8f0b31c3ebe6c45e955baccd667d12e8770690...  \n",
              "629313   0fbb38ed2abb05d47cd8ab7eb91c8a86e8bb1a6c646054...  \n",
              "...                                                    ...  \n",
              "698268   a119c5c25eaa0a447ce8ca888805987dbc6a675007cb8d...  \n",
              "1362122  443398ecc0104a2d00c09a8982f0dd86e16720c2641a71...  \n",
              "1019824  4665f2b1ebfa8237320e85f8bedaaf856bab3f7cabde09...  \n",
              "953      c5f2af92af434806bffef30763a5ef30f08298c9d31668...  \n",
              "210781   496760818f78bb6e8e246de83ea54b61342866b44c519e...  \n",
              "\n",
              "[34300 rows x 7 columns]"
            ]
          },
          "execution_count": 20,
          "metadata": {},
          "output_type": "execute_result"
        }
      ],
      "source": [
        "customer_subset_df"
      ]
    },
    {
      "cell_type": "code",
      "execution_count": null,
      "id": "ac6daac9",
      "metadata": {
        "id": "ac6daac9",
        "outputId": "d329683c-8b05-4364-d709-cfce5b0dc87e"
      },
      "outputs": [
        {
          "data": {
            "text/html": [
              "<div>\n",
              "<style scoped>\n",
              "    .dataframe tbody tr th:only-of-type {\n",
              "        vertical-align: middle;\n",
              "    }\n",
              "\n",
              "    .dataframe tbody tr th {\n",
              "        vertical-align: top;\n",
              "    }\n",
              "\n",
              "    .dataframe thead th {\n",
              "        text-align: right;\n",
              "    }\n",
              "</style>\n",
              "<table border=\"1\" class=\"dataframe\">\n",
              "  <thead>\n",
              "    <tr style=\"text-align: right;\">\n",
              "      <th></th>\n",
              "      <th>customer_id</th>\n",
              "      <th>FN</th>\n",
              "      <th>Active</th>\n",
              "      <th>club_member_status</th>\n",
              "      <th>fashion_news_frequency</th>\n",
              "      <th>age</th>\n",
              "      <th>postal_code</th>\n",
              "    </tr>\n",
              "  </thead>\n",
              "  <tbody>\n",
              "    <tr>\n",
              "      <th>0</th>\n",
              "      <td>00000dbacae5abe5e23885899a1fa44253a17956c6d1c3...</td>\n",
              "      <td>NaN</td>\n",
              "      <td>NaN</td>\n",
              "      <td>ACTIVE</td>\n",
              "      <td>NONE</td>\n",
              "      <td>49.0</td>\n",
              "      <td>52043ee2162cf5aa7ee79974281641c6f11a68d276429a...</td>\n",
              "    </tr>\n",
              "    <tr>\n",
              "      <th>1</th>\n",
              "      <td>0000423b00ade91418cceaf3b26c6af3dd342b51fd051e...</td>\n",
              "      <td>NaN</td>\n",
              "      <td>NaN</td>\n",
              "      <td>ACTIVE</td>\n",
              "      <td>NONE</td>\n",
              "      <td>25.0</td>\n",
              "      <td>2973abc54daa8a5f8ccfe9362140c63247c5eee03f1d93...</td>\n",
              "    </tr>\n",
              "    <tr>\n",
              "      <th>2</th>\n",
              "      <td>000058a12d5b43e67d225668fa1f8d618c13dc232df0ca...</td>\n",
              "      <td>NaN</td>\n",
              "      <td>NaN</td>\n",
              "      <td>ACTIVE</td>\n",
              "      <td>NONE</td>\n",
              "      <td>24.0</td>\n",
              "      <td>64f17e6a330a85798e4998f62d0930d14db8db1c054af6...</td>\n",
              "    </tr>\n",
              "    <tr>\n",
              "      <th>3</th>\n",
              "      <td>00005ca1c9ed5f5146b52ac8639a40ca9d57aeff4d1bd2...</td>\n",
              "      <td>NaN</td>\n",
              "      <td>NaN</td>\n",
              "      <td>ACTIVE</td>\n",
              "      <td>NONE</td>\n",
              "      <td>54.0</td>\n",
              "      <td>5d36574f52495e81f019b680c843c443bd343d5ca5b1c2...</td>\n",
              "    </tr>\n",
              "    <tr>\n",
              "      <th>4</th>\n",
              "      <td>00006413d8573cd20ed7128e53b7b13819fe5cfc2d801f...</td>\n",
              "      <td>1.0</td>\n",
              "      <td>1.0</td>\n",
              "      <td>ACTIVE</td>\n",
              "      <td>Regularly</td>\n",
              "      <td>52.0</td>\n",
              "      <td>25fa5ddee9aac01b35208d01736e57942317d756b32ddd...</td>\n",
              "    </tr>\n",
              "  </tbody>\n",
              "</table>\n",
              "</div>"
            ],
            "text/plain": [
              "                                         customer_id   FN  Active  \\\n",
              "0  00000dbacae5abe5e23885899a1fa44253a17956c6d1c3...  NaN     NaN   \n",
              "1  0000423b00ade91418cceaf3b26c6af3dd342b51fd051e...  NaN     NaN   \n",
              "2  000058a12d5b43e67d225668fa1f8d618c13dc232df0ca...  NaN     NaN   \n",
              "3  00005ca1c9ed5f5146b52ac8639a40ca9d57aeff4d1bd2...  NaN     NaN   \n",
              "4  00006413d8573cd20ed7128e53b7b13819fe5cfc2d801f...  1.0     1.0   \n",
              "\n",
              "  club_member_status fashion_news_frequency   age  \\\n",
              "0             ACTIVE                   NONE  49.0   \n",
              "1             ACTIVE                   NONE  25.0   \n",
              "2             ACTIVE                   NONE  24.0   \n",
              "3             ACTIVE                   NONE  54.0   \n",
              "4             ACTIVE              Regularly  52.0   \n",
              "\n",
              "                                         postal_code  \n",
              "0  52043ee2162cf5aa7ee79974281641c6f11a68d276429a...  \n",
              "1  2973abc54daa8a5f8ccfe9362140c63247c5eee03f1d93...  \n",
              "2  64f17e6a330a85798e4998f62d0930d14db8db1c054af6...  \n",
              "3  5d36574f52495e81f019b680c843c443bd343d5ca5b1c2...  \n",
              "4  25fa5ddee9aac01b35208d01736e57942317d756b32ddd...  "
            ]
          },
          "execution_count": 22,
          "metadata": {},
          "output_type": "execute_result"
        }
      ],
      "source": [
        "customer_df.head()"
      ]
    },
    {
      "cell_type": "code",
      "execution_count": null,
      "id": "ad5d6c7a",
      "metadata": {
        "id": "ad5d6c7a",
        "outputId": "d9df7396-2e04-4999-f762-cdb59251a5d7"
      },
      "outputs": [
        {
          "data": {
            "text/plain": [
              "0          00000dbacae5abe5e23885899a1fa44253a17956c6d1c3...\n",
              "1          0000423b00ade91418cceaf3b26c6af3dd342b51fd051e...\n",
              "2          000058a12d5b43e67d225668fa1f8d618c13dc232df0ca...\n",
              "3          00005ca1c9ed5f5146b52ac8639a40ca9d57aeff4d1bd2...\n",
              "4          00006413d8573cd20ed7128e53b7b13819fe5cfc2d801f...\n",
              "                                 ...                        \n",
              "1371975    ffffbbf78b6eaac697a8a5dfbfd2bfa8113ee5b403e474...\n",
              "1371976    ffffcd5046a6143d29a04fb8c424ce494a76e5cdf4fab5...\n",
              "1371977    ffffcf35913a0bee60e8741cb2b4e78b8a98ee5ff2e6a1...\n",
              "1371978    ffffd7744cebcf3aca44ae7049d2a94b87074c3d4ffe38...\n",
              "1371979    ffffd9ac14e89946416d80e791d064701994755c3ab686...\n",
              "Name: customer_id, Length: 1371980, dtype: object"
            ]
          },
          "execution_count": 24,
          "metadata": {},
          "output_type": "execute_result"
        }
      ],
      "source": [
        "customer_df.customer_id"
      ]
    },
    {
      "cell_type": "code",
      "execution_count": null,
      "id": "6c2fdb21",
      "metadata": {
        "id": "6c2fdb21"
      },
      "outputs": [],
      "source": [
        "customer_ids=customer_subset_df.customer_id"
      ]
    },
    {
      "cell_type": "code",
      "execution_count": null,
      "id": "8e78903f",
      "metadata": {
        "id": "8e78903f",
        "outputId": "ced1847a-6bb4-47fb-b861-9a70a569a0af"
      },
      "outputs": [
        {
          "data": {
            "text/plain": [
              "34300"
            ]
          },
          "execution_count": 34,
          "metadata": {},
          "output_type": "execute_result"
        }
      ],
      "source": [
        "customer_ids=list(customer_ids)\n",
        "len(customer_ids)"
      ]
    },
    {
      "cell_type": "code",
      "execution_count": null,
      "id": "e33e81c0",
      "metadata": {
        "id": "e33e81c0",
        "outputId": "ddfcf133-5f70-4b89-e0a2-415722c9c36d"
      },
      "outputs": [
        {
          "data": {
            "text/html": [
              "<div>\n",
              "<style scoped>\n",
              "    .dataframe tbody tr th:only-of-type {\n",
              "        vertical-align: middle;\n",
              "    }\n",
              "\n",
              "    .dataframe tbody tr th {\n",
              "        vertical-align: top;\n",
              "    }\n",
              "\n",
              "    .dataframe thead th {\n",
              "        text-align: right;\n",
              "    }\n",
              "</style>\n",
              "<table border=\"1\" class=\"dataframe\">\n",
              "  <thead>\n",
              "    <tr style=\"text-align: right;\">\n",
              "      <th></th>\n",
              "      <th>t_dat</th>\n",
              "      <th>customer_id</th>\n",
              "      <th>article_id</th>\n",
              "      <th>price</th>\n",
              "      <th>sales_channel_id</th>\n",
              "    </tr>\n",
              "  </thead>\n",
              "  <tbody>\n",
              "    <tr>\n",
              "      <th>0</th>\n",
              "      <td>2018-09-20</td>\n",
              "      <td>000058a12d5b43e67d225668fa1f8d618c13dc232df0ca...</td>\n",
              "      <td>663713001</td>\n",
              "      <td>0.050831</td>\n",
              "      <td>2</td>\n",
              "    </tr>\n",
              "    <tr>\n",
              "      <th>1</th>\n",
              "      <td>2018-09-20</td>\n",
              "      <td>000058a12d5b43e67d225668fa1f8d618c13dc232df0ca...</td>\n",
              "      <td>541518023</td>\n",
              "      <td>0.030492</td>\n",
              "      <td>2</td>\n",
              "    </tr>\n",
              "    <tr>\n",
              "      <th>2</th>\n",
              "      <td>2018-09-20</td>\n",
              "      <td>00007d2de826758b65a93dd24ce629ed66842531df6699...</td>\n",
              "      <td>505221004</td>\n",
              "      <td>0.015237</td>\n",
              "      <td>2</td>\n",
              "    </tr>\n",
              "    <tr>\n",
              "      <th>3</th>\n",
              "      <td>2018-09-20</td>\n",
              "      <td>00007d2de826758b65a93dd24ce629ed66842531df6699...</td>\n",
              "      <td>685687003</td>\n",
              "      <td>0.016932</td>\n",
              "      <td>2</td>\n",
              "    </tr>\n",
              "    <tr>\n",
              "      <th>4</th>\n",
              "      <td>2018-09-20</td>\n",
              "      <td>00007d2de826758b65a93dd24ce629ed66842531df6699...</td>\n",
              "      <td>685687004</td>\n",
              "      <td>0.016932</td>\n",
              "      <td>2</td>\n",
              "    </tr>\n",
              "  </tbody>\n",
              "</table>\n",
              "</div>"
            ],
            "text/plain": [
              "        t_dat                                        customer_id  article_id  \\\n",
              "0  2018-09-20  000058a12d5b43e67d225668fa1f8d618c13dc232df0ca...   663713001   \n",
              "1  2018-09-20  000058a12d5b43e67d225668fa1f8d618c13dc232df0ca...   541518023   \n",
              "2  2018-09-20  00007d2de826758b65a93dd24ce629ed66842531df6699...   505221004   \n",
              "3  2018-09-20  00007d2de826758b65a93dd24ce629ed66842531df6699...   685687003   \n",
              "4  2018-09-20  00007d2de826758b65a93dd24ce629ed66842531df6699...   685687004   \n",
              "\n",
              "      price  sales_channel_id  \n",
              "0  0.050831                 2  \n",
              "1  0.030492                 2  \n",
              "2  0.015237                 2  \n",
              "3  0.016932                 2  \n",
              "4  0.016932                 2  "
            ]
          },
          "execution_count": 36,
          "metadata": {},
          "output_type": "execute_result"
        }
      ],
      "source": [
        "transaction_df.head()"
      ]
    },
    {
      "cell_type": "code",
      "execution_count": null,
      "id": "a3053ccf",
      "metadata": {
        "id": "a3053ccf"
      },
      "outputs": [],
      "source": [
        "transaction_df=transaction_df.drop_duplicates()"
      ]
    },
    {
      "cell_type": "code",
      "execution_count": null,
      "id": "63bce0cd",
      "metadata": {
        "id": "63bce0cd"
      },
      "outputs": [],
      "source": [
        "re=transaction_df['customer_id'].isin(customer_ids)"
      ]
    },
    {
      "cell_type": "code",
      "execution_count": null,
      "id": "579def9a",
      "metadata": {
        "id": "579def9a"
      },
      "outputs": [],
      "source": [
        "idx=list(re[re].index)"
      ]
    },
    {
      "cell_type": "code",
      "execution_count": null,
      "id": "660da377",
      "metadata": {
        "id": "660da377",
        "outputId": "3c98a2a6-1a02-4dc1-d3b0-c3492936f8b0"
      },
      "outputs": [
        {
          "data": {
            "text/plain": [
              "723989"
            ]
          },
          "execution_count": 41,
          "metadata": {},
          "output_type": "execute_result"
        }
      ],
      "source": [
        "len(idx)"
      ]
    },
    {
      "cell_type": "code",
      "execution_count": null,
      "id": "249f2fc6",
      "metadata": {
        "id": "249f2fc6"
      },
      "outputs": [],
      "source": [
        "transaction_subset_df = transaction_df[re]"
      ]
    },
    {
      "cell_type": "code",
      "execution_count": null,
      "id": "4a1fa42e",
      "metadata": {
        "id": "4a1fa42e",
        "outputId": "771f99e5-5a51-47cf-a9f1-8f1323aac6d7"
      },
      "outputs": [
        {
          "data": {
            "text/html": [
              "<div>\n",
              "<style scoped>\n",
              "    .dataframe tbody tr th:only-of-type {\n",
              "        vertical-align: middle;\n",
              "    }\n",
              "\n",
              "    .dataframe tbody tr th {\n",
              "        vertical-align: top;\n",
              "    }\n",
              "\n",
              "    .dataframe thead th {\n",
              "        text-align: right;\n",
              "    }\n",
              "</style>\n",
              "<table border=\"1\" class=\"dataframe\">\n",
              "  <thead>\n",
              "    <tr style=\"text-align: right;\">\n",
              "      <th></th>\n",
              "      <th>t_dat</th>\n",
              "      <th>customer_id</th>\n",
              "      <th>article_id</th>\n",
              "      <th>price</th>\n",
              "      <th>sales_channel_id</th>\n",
              "    </tr>\n",
              "  </thead>\n",
              "  <tbody>\n",
              "    <tr>\n",
              "      <th>140</th>\n",
              "      <td>2018-09-20</td>\n",
              "      <td>00b6ec8613e51d8eadc5157f5a12ae1366ca29da7d44cc...</td>\n",
              "      <td>529008008</td>\n",
              "      <td>0.013542</td>\n",
              "      <td>2</td>\n",
              "    </tr>\n",
              "    <tr>\n",
              "      <th>141</th>\n",
              "      <td>2018-09-20</td>\n",
              "      <td>00b6ec8613e51d8eadc5157f5a12ae1366ca29da7d44cc...</td>\n",
              "      <td>594633001</td>\n",
              "      <td>0.013542</td>\n",
              "      <td>2</td>\n",
              "    </tr>\n",
              "    <tr>\n",
              "      <th>142</th>\n",
              "      <td>2018-09-20</td>\n",
              "      <td>00b6ec8613e51d8eadc5157f5a12ae1366ca29da7d44cc...</td>\n",
              "      <td>603401002</td>\n",
              "      <td>0.013542</td>\n",
              "      <td>2</td>\n",
              "    </tr>\n",
              "    <tr>\n",
              "      <th>146</th>\n",
              "      <td>2018-09-20</td>\n",
              "      <td>00c59bdfaf753688c62cc13f67382dd54275f776a2f6a6...</td>\n",
              "      <td>678073001</td>\n",
              "      <td>0.024424</td>\n",
              "      <td>2</td>\n",
              "    </tr>\n",
              "    <tr>\n",
              "      <th>147</th>\n",
              "      <td>2018-09-20</td>\n",
              "      <td>00c59bdfaf753688c62cc13f67382dd54275f776a2f6a6...</td>\n",
              "      <td>671515001</td>\n",
              "      <td>0.024424</td>\n",
              "      <td>2</td>\n",
              "    </tr>\n",
              "    <tr>\n",
              "      <th>...</th>\n",
              "      <td>...</td>\n",
              "      <td>...</td>\n",
              "      <td>...</td>\n",
              "      <td>...</td>\n",
              "      <td>...</td>\n",
              "    </tr>\n",
              "    <tr>\n",
              "      <th>31788303</th>\n",
              "      <td>2020-09-22</td>\n",
              "      <td>ffcba92c45455b22f54dd02303b057c0a4b9b1f4fcfdf2...</td>\n",
              "      <td>919273002</td>\n",
              "      <td>0.042356</td>\n",
              "      <td>2</td>\n",
              "    </tr>\n",
              "    <tr>\n",
              "      <th>31788304</th>\n",
              "      <td>2020-09-22</td>\n",
              "      <td>ffcba92c45455b22f54dd02303b057c0a4b9b1f4fcfdf2...</td>\n",
              "      <td>881448002</td>\n",
              "      <td>0.059305</td>\n",
              "      <td>2</td>\n",
              "    </tr>\n",
              "    <tr>\n",
              "      <th>31788305</th>\n",
              "      <td>2020-09-22</td>\n",
              "      <td>ffcba92c45455b22f54dd02303b057c0a4b9b1f4fcfdf2...</td>\n",
              "      <td>919273001</td>\n",
              "      <td>0.042356</td>\n",
              "      <td>2</td>\n",
              "    </tr>\n",
              "    <tr>\n",
              "      <th>31788306</th>\n",
              "      <td>2020-09-22</td>\n",
              "      <td>ffcba92c45455b22f54dd02303b057c0a4b9b1f4fcfdf2...</td>\n",
              "      <td>919273004</td>\n",
              "      <td>0.042356</td>\n",
              "      <td>2</td>\n",
              "    </tr>\n",
              "    <tr>\n",
              "      <th>31788307</th>\n",
              "      <td>2020-09-22</td>\n",
              "      <td>ffcba92c45455b22f54dd02303b057c0a4b9b1f4fcfdf2...</td>\n",
              "      <td>881448001</td>\n",
              "      <td>0.059305</td>\n",
              "      <td>2</td>\n",
              "    </tr>\n",
              "  </tbody>\n",
              "</table>\n",
              "<p>723989 rows × 5 columns</p>\n",
              "</div>"
            ],
            "text/plain": [
              "               t_dat                                        customer_id  \\\n",
              "140       2018-09-20  00b6ec8613e51d8eadc5157f5a12ae1366ca29da7d44cc...   \n",
              "141       2018-09-20  00b6ec8613e51d8eadc5157f5a12ae1366ca29da7d44cc...   \n",
              "142       2018-09-20  00b6ec8613e51d8eadc5157f5a12ae1366ca29da7d44cc...   \n",
              "146       2018-09-20  00c59bdfaf753688c62cc13f67382dd54275f776a2f6a6...   \n",
              "147       2018-09-20  00c59bdfaf753688c62cc13f67382dd54275f776a2f6a6...   \n",
              "...              ...                                                ...   \n",
              "31788303  2020-09-22  ffcba92c45455b22f54dd02303b057c0a4b9b1f4fcfdf2...   \n",
              "31788304  2020-09-22  ffcba92c45455b22f54dd02303b057c0a4b9b1f4fcfdf2...   \n",
              "31788305  2020-09-22  ffcba92c45455b22f54dd02303b057c0a4b9b1f4fcfdf2...   \n",
              "31788306  2020-09-22  ffcba92c45455b22f54dd02303b057c0a4b9b1f4fcfdf2...   \n",
              "31788307  2020-09-22  ffcba92c45455b22f54dd02303b057c0a4b9b1f4fcfdf2...   \n",
              "\n",
              "          article_id     price  sales_channel_id  \n",
              "140        529008008  0.013542                 2  \n",
              "141        594633001  0.013542                 2  \n",
              "142        603401002  0.013542                 2  \n",
              "146        678073001  0.024424                 2  \n",
              "147        671515001  0.024424                 2  \n",
              "...              ...       ...               ...  \n",
              "31788303   919273002  0.042356                 2  \n",
              "31788304   881448002  0.059305                 2  \n",
              "31788305   919273001  0.042356                 2  \n",
              "31788306   919273004  0.042356                 2  \n",
              "31788307   881448001  0.059305                 2  \n",
              "\n",
              "[723989 rows x 5 columns]"
            ]
          },
          "execution_count": 43,
          "metadata": {},
          "output_type": "execute_result"
        }
      ],
      "source": [
        "transaction_subset_df"
      ]
    },
    {
      "cell_type": "code",
      "execution_count": null,
      "id": "273ce5c1",
      "metadata": {
        "id": "273ce5c1"
      },
      "outputs": [],
      "source": [
        "article_ids=list(transaction_subset_df.article_id.unique())"
      ]
    },
    {
      "cell_type": "code",
      "execution_count": null,
      "id": "ddb274c5",
      "metadata": {
        "id": "ddb274c5",
        "outputId": "545cbe9c-b028-44ae-bf6e-c0efd8d33a5a"
      },
      "outputs": [
        {
          "data": {
            "text/plain": [
              "66496"
            ]
          },
          "execution_count": 45,
          "metadata": {},
          "output_type": "execute_result"
        }
      ],
      "source": [
        "len(article_ids)"
      ]
    },
    {
      "cell_type": "code",
      "execution_count": null,
      "id": "cbaf3349",
      "metadata": {
        "id": "cbaf3349"
      },
      "outputs": [],
      "source": [
        "re=article_df['article_id'].isin(article_ids)\n",
        "idx=list(re[re].index)"
      ]
    },
    {
      "cell_type": "code",
      "execution_count": null,
      "id": "4772f713",
      "metadata": {
        "id": "4772f713"
      },
      "outputs": [],
      "source": [
        "article_subset_df = article_df[re]"
      ]
    },
    {
      "cell_type": "code",
      "execution_count": null,
      "id": "86a84aa8",
      "metadata": {
        "id": "86a84aa8",
        "outputId": "a36c506d-ff1e-42d6-9229-a41ee2d33b31"
      },
      "outputs": [
        {
          "data": {
            "text/html": [
              "<div>\n",
              "<style scoped>\n",
              "    .dataframe tbody tr th:only-of-type {\n",
              "        vertical-align: middle;\n",
              "    }\n",
              "\n",
              "    .dataframe tbody tr th {\n",
              "        vertical-align: top;\n",
              "    }\n",
              "\n",
              "    .dataframe thead th {\n",
              "        text-align: right;\n",
              "    }\n",
              "</style>\n",
              "<table border=\"1\" class=\"dataframe\">\n",
              "  <thead>\n",
              "    <tr style=\"text-align: right;\">\n",
              "      <th></th>\n",
              "      <th>article_id</th>\n",
              "      <th>product_code</th>\n",
              "      <th>prod_name</th>\n",
              "      <th>product_type_no</th>\n",
              "      <th>product_type_name</th>\n",
              "      <th>product_group_name</th>\n",
              "      <th>graphical_appearance_no</th>\n",
              "      <th>graphical_appearance_name</th>\n",
              "      <th>colour_group_code</th>\n",
              "      <th>colour_group_name</th>\n",
              "      <th>...</th>\n",
              "      <th>department_name</th>\n",
              "      <th>index_code</th>\n",
              "      <th>index_name</th>\n",
              "      <th>index_group_no</th>\n",
              "      <th>index_group_name</th>\n",
              "      <th>section_no</th>\n",
              "      <th>section_name</th>\n",
              "      <th>garment_group_no</th>\n",
              "      <th>garment_group_name</th>\n",
              "      <th>detail_desc</th>\n",
              "    </tr>\n",
              "  </thead>\n",
              "  <tbody>\n",
              "    <tr>\n",
              "      <th>0</th>\n",
              "      <td>108775015</td>\n",
              "      <td>108775</td>\n",
              "      <td>Strap top</td>\n",
              "      <td>253</td>\n",
              "      <td>Vest top</td>\n",
              "      <td>Garment Upper body</td>\n",
              "      <td>1010016</td>\n",
              "      <td>Solid</td>\n",
              "      <td>9</td>\n",
              "      <td>Black</td>\n",
              "      <td>...</td>\n",
              "      <td>Jersey Basic</td>\n",
              "      <td>A</td>\n",
              "      <td>Ladieswear</td>\n",
              "      <td>1</td>\n",
              "      <td>Ladieswear</td>\n",
              "      <td>16</td>\n",
              "      <td>Womens Everyday Basics</td>\n",
              "      <td>1002</td>\n",
              "      <td>Jersey Basic</td>\n",
              "      <td>Jersey top with narrow shoulder straps.</td>\n",
              "    </tr>\n",
              "    <tr>\n",
              "      <th>1</th>\n",
              "      <td>108775044</td>\n",
              "      <td>108775</td>\n",
              "      <td>Strap top</td>\n",
              "      <td>253</td>\n",
              "      <td>Vest top</td>\n",
              "      <td>Garment Upper body</td>\n",
              "      <td>1010016</td>\n",
              "      <td>Solid</td>\n",
              "      <td>10</td>\n",
              "      <td>White</td>\n",
              "      <td>...</td>\n",
              "      <td>Jersey Basic</td>\n",
              "      <td>A</td>\n",
              "      <td>Ladieswear</td>\n",
              "      <td>1</td>\n",
              "      <td>Ladieswear</td>\n",
              "      <td>16</td>\n",
              "      <td>Womens Everyday Basics</td>\n",
              "      <td>1002</td>\n",
              "      <td>Jersey Basic</td>\n",
              "      <td>Jersey top with narrow shoulder straps.</td>\n",
              "    </tr>\n",
              "    <tr>\n",
              "      <th>2</th>\n",
              "      <td>108775051</td>\n",
              "      <td>108775</td>\n",
              "      <td>Strap top (1)</td>\n",
              "      <td>253</td>\n",
              "      <td>Vest top</td>\n",
              "      <td>Garment Upper body</td>\n",
              "      <td>1010017</td>\n",
              "      <td>Stripe</td>\n",
              "      <td>11</td>\n",
              "      <td>Off White</td>\n",
              "      <td>...</td>\n",
              "      <td>Jersey Basic</td>\n",
              "      <td>A</td>\n",
              "      <td>Ladieswear</td>\n",
              "      <td>1</td>\n",
              "      <td>Ladieswear</td>\n",
              "      <td>16</td>\n",
              "      <td>Womens Everyday Basics</td>\n",
              "      <td>1002</td>\n",
              "      <td>Jersey Basic</td>\n",
              "      <td>Jersey top with narrow shoulder straps.</td>\n",
              "    </tr>\n",
              "    <tr>\n",
              "      <th>3</th>\n",
              "      <td>110065001</td>\n",
              "      <td>110065</td>\n",
              "      <td>OP T-shirt (Idro)</td>\n",
              "      <td>306</td>\n",
              "      <td>Bra</td>\n",
              "      <td>Underwear</td>\n",
              "      <td>1010016</td>\n",
              "      <td>Solid</td>\n",
              "      <td>9</td>\n",
              "      <td>Black</td>\n",
              "      <td>...</td>\n",
              "      <td>Clean Lingerie</td>\n",
              "      <td>B</td>\n",
              "      <td>Lingeries/Tights</td>\n",
              "      <td>1</td>\n",
              "      <td>Ladieswear</td>\n",
              "      <td>61</td>\n",
              "      <td>Womens Lingerie</td>\n",
              "      <td>1017</td>\n",
              "      <td>Under-, Nightwear</td>\n",
              "      <td>Microfibre T-shirt bra with underwired, moulde...</td>\n",
              "    </tr>\n",
              "    <tr>\n",
              "      <th>4</th>\n",
              "      <td>110065002</td>\n",
              "      <td>110065</td>\n",
              "      <td>OP T-shirt (Idro)</td>\n",
              "      <td>306</td>\n",
              "      <td>Bra</td>\n",
              "      <td>Underwear</td>\n",
              "      <td>1010016</td>\n",
              "      <td>Solid</td>\n",
              "      <td>10</td>\n",
              "      <td>White</td>\n",
              "      <td>...</td>\n",
              "      <td>Clean Lingerie</td>\n",
              "      <td>B</td>\n",
              "      <td>Lingeries/Tights</td>\n",
              "      <td>1</td>\n",
              "      <td>Ladieswear</td>\n",
              "      <td>61</td>\n",
              "      <td>Womens Lingerie</td>\n",
              "      <td>1017</td>\n",
              "      <td>Under-, Nightwear</td>\n",
              "      <td>Microfibre T-shirt bra with underwired, moulde...</td>\n",
              "    </tr>\n",
              "  </tbody>\n",
              "</table>\n",
              "<p>5 rows × 25 columns</p>\n",
              "</div>"
            ],
            "text/plain": [
              "   article_id  product_code          prod_name  product_type_no  \\\n",
              "0   108775015        108775          Strap top              253   \n",
              "1   108775044        108775          Strap top              253   \n",
              "2   108775051        108775      Strap top (1)              253   \n",
              "3   110065001        110065  OP T-shirt (Idro)              306   \n",
              "4   110065002        110065  OP T-shirt (Idro)              306   \n",
              "\n",
              "  product_type_name  product_group_name  graphical_appearance_no  \\\n",
              "0          Vest top  Garment Upper body                  1010016   \n",
              "1          Vest top  Garment Upper body                  1010016   \n",
              "2          Vest top  Garment Upper body                  1010017   \n",
              "3               Bra           Underwear                  1010016   \n",
              "4               Bra           Underwear                  1010016   \n",
              "\n",
              "  graphical_appearance_name  colour_group_code colour_group_name  ...  \\\n",
              "0                     Solid                  9             Black  ...   \n",
              "1                     Solid                 10             White  ...   \n",
              "2                    Stripe                 11         Off White  ...   \n",
              "3                     Solid                  9             Black  ...   \n",
              "4                     Solid                 10             White  ...   \n",
              "\n",
              "   department_name index_code        index_name index_group_no  \\\n",
              "0     Jersey Basic          A        Ladieswear              1   \n",
              "1     Jersey Basic          A        Ladieswear              1   \n",
              "2     Jersey Basic          A        Ladieswear              1   \n",
              "3   Clean Lingerie          B  Lingeries/Tights              1   \n",
              "4   Clean Lingerie          B  Lingeries/Tights              1   \n",
              "\n",
              "   index_group_name section_no            section_name garment_group_no  \\\n",
              "0        Ladieswear         16  Womens Everyday Basics             1002   \n",
              "1        Ladieswear         16  Womens Everyday Basics             1002   \n",
              "2        Ladieswear         16  Womens Everyday Basics             1002   \n",
              "3        Ladieswear         61         Womens Lingerie             1017   \n",
              "4        Ladieswear         61         Womens Lingerie             1017   \n",
              "\n",
              "   garment_group_name                                        detail_desc  \n",
              "0        Jersey Basic            Jersey top with narrow shoulder straps.  \n",
              "1        Jersey Basic            Jersey top with narrow shoulder straps.  \n",
              "2        Jersey Basic            Jersey top with narrow shoulder straps.  \n",
              "3   Under-, Nightwear  Microfibre T-shirt bra with underwired, moulde...  \n",
              "4   Under-, Nightwear  Microfibre T-shirt bra with underwired, moulde...  \n",
              "\n",
              "[5 rows x 25 columns]"
            ]
          },
          "execution_count": 48,
          "metadata": {},
          "output_type": "execute_result"
        }
      ],
      "source": [
        "article_subset_df.head()"
      ]
    },
    {
      "cell_type": "code",
      "execution_count": null,
      "id": "47febec7",
      "metadata": {
        "id": "47febec7"
      },
      "outputs": [],
      "source": [
        "customer_subset_df.to_csv('customers_subset.csv')\n",
        "article_subset_df.to_csv('articles_subset.csv')\n",
        "transaction_subset_df.to_csv('transaction_subset.csv')"
      ]
    },
    {
      "cell_type": "code",
      "execution_count": null,
      "id": "5d462821",
      "metadata": {
        "id": "5d462821"
      },
      "outputs": [],
      "source": [
        "customer_subset_df=pd.read_csv('customers_subset.csv')\n",
        "transaction_subset_df=pd.read_csv('transaction_subset.csv')\n",
        "article_subset_df=pd.read_csv('articles_subset.csv')"
      ]
    },
    {
      "cell_type": "markdown",
      "id": "eff36c41",
      "metadata": {
        "id": "eff36c41"
      },
      "source": [
        "### Clustering"
      ]
    },
    {
      "cell_type": "code",
      "execution_count": null,
      "id": "196091e9",
      "metadata": {
        "id": "196091e9",
        "outputId": "ec0c34d4-5835-4af2-da18-8aea42721737"
      },
      "outputs": [
        {
          "data": {
            "text/html": [
              "<div>\n",
              "<style scoped>\n",
              "    .dataframe tbody tr th:only-of-type {\n",
              "        vertical-align: middle;\n",
              "    }\n",
              "\n",
              "    .dataframe tbody tr th {\n",
              "        vertical-align: top;\n",
              "    }\n",
              "\n",
              "    .dataframe thead th {\n",
              "        text-align: right;\n",
              "    }\n",
              "</style>\n",
              "<table border=\"1\" class=\"dataframe\">\n",
              "  <thead>\n",
              "    <tr style=\"text-align: right;\">\n",
              "      <th></th>\n",
              "      <th>customer_id</th>\n",
              "      <th>FN</th>\n",
              "      <th>Active</th>\n",
              "      <th>club_member_status</th>\n",
              "      <th>fashion_news_frequency</th>\n",
              "      <th>age</th>\n",
              "      <th>postal_code</th>\n",
              "    </tr>\n",
              "  </thead>\n",
              "  <tbody>\n",
              "    <tr>\n",
              "      <th>0</th>\n",
              "      <td>1eff46f4dcf56773ce37fb0be3b1d74f516c6df6474318...</td>\n",
              "      <td>1.0</td>\n",
              "      <td>1.0</td>\n",
              "      <td>ACTIVE</td>\n",
              "      <td>Regularly</td>\n",
              "      <td>19.0</td>\n",
              "      <td>62d233fbd67594a3b41fe310b315111498cdd1ed9bd78c...</td>\n",
              "    </tr>\n",
              "    <tr>\n",
              "      <th>1</th>\n",
              "      <td>02f1b41ba688aea08bde7ce3e2c36df87b8c6f8d0d5f6f...</td>\n",
              "      <td>1.0</td>\n",
              "      <td>1.0</td>\n",
              "      <td>ACTIVE</td>\n",
              "      <td>Regularly</td>\n",
              "      <td>34.0</td>\n",
              "      <td>023dab68ffccadf30c12e13abf467ee74e14a33abfb448...</td>\n",
              "    </tr>\n",
              "    <tr>\n",
              "      <th>2</th>\n",
              "      <td>f41abbc77882baacdde7f6d953ff795b10d71af561630f...</td>\n",
              "      <td>NaN</td>\n",
              "      <td>NaN</td>\n",
              "      <td>ACTIVE</td>\n",
              "      <td>NONE</td>\n",
              "      <td>49.0</td>\n",
              "      <td>71f5b4b6cad8896d7784f86bb481b0f706a42c1f09056f...</td>\n",
              "    </tr>\n",
              "    <tr>\n",
              "      <th>3</th>\n",
              "      <td>bd90c287089542e55d17d30eed5e50a9c451c255c7bd61...</td>\n",
              "      <td>NaN</td>\n",
              "      <td>NaN</td>\n",
              "      <td>ACTIVE</td>\n",
              "      <td>NONE</td>\n",
              "      <td>26.0</td>\n",
              "      <td>cb0dd20a8f0b31c3ebe6c45e955baccd667d12e8770690...</td>\n",
              "    </tr>\n",
              "    <tr>\n",
              "      <th>4</th>\n",
              "      <td>756dbd04fb4477530792455563fa26cf9255e70b9e45ab...</td>\n",
              "      <td>NaN</td>\n",
              "      <td>NaN</td>\n",
              "      <td>ACTIVE</td>\n",
              "      <td>NONE</td>\n",
              "      <td>33.0</td>\n",
              "      <td>0fbb38ed2abb05d47cd8ab7eb91c8a86e8bb1a6c646054...</td>\n",
              "    </tr>\n",
              "  </tbody>\n",
              "</table>\n",
              "</div>"
            ],
            "text/plain": [
              "                                         customer_id   FN  Active  \\\n",
              "0  1eff46f4dcf56773ce37fb0be3b1d74f516c6df6474318...  1.0     1.0   \n",
              "1  02f1b41ba688aea08bde7ce3e2c36df87b8c6f8d0d5f6f...  1.0     1.0   \n",
              "2  f41abbc77882baacdde7f6d953ff795b10d71af561630f...  NaN     NaN   \n",
              "3  bd90c287089542e55d17d30eed5e50a9c451c255c7bd61...  NaN     NaN   \n",
              "4  756dbd04fb4477530792455563fa26cf9255e70b9e45ab...  NaN     NaN   \n",
              "\n",
              "  club_member_status fashion_news_frequency   age  \\\n",
              "0             ACTIVE              Regularly  19.0   \n",
              "1             ACTIVE              Regularly  34.0   \n",
              "2             ACTIVE                   NONE  49.0   \n",
              "3             ACTIVE                   NONE  26.0   \n",
              "4             ACTIVE                   NONE  33.0   \n",
              "\n",
              "                                         postal_code  \n",
              "0  62d233fbd67594a3b41fe310b315111498cdd1ed9bd78c...  \n",
              "1  023dab68ffccadf30c12e13abf467ee74e14a33abfb448...  \n",
              "2  71f5b4b6cad8896d7784f86bb481b0f706a42c1f09056f...  \n",
              "3  cb0dd20a8f0b31c3ebe6c45e955baccd667d12e8770690...  \n",
              "4  0fbb38ed2abb05d47cd8ab7eb91c8a86e8bb1a6c646054...  "
            ]
          },
          "execution_count": 53,
          "metadata": {},
          "output_type": "execute_result"
        }
      ],
      "source": [
        "customer_subset_df.head()"
      ]
    },
    {
      "cell_type": "code",
      "execution_count": null,
      "id": "ec16feb7",
      "metadata": {
        "id": "ec16feb7"
      },
      "outputs": [],
      "source": [
        "X=customer_subset_df"
      ]
    },
    {
      "cell_type": "code",
      "execution_count": null,
      "id": "fa4d280a",
      "metadata": {
        "id": "fa4d280a"
      },
      "outputs": [],
      "source": [
        "X=X.drop(columns=['customer_id','postal_code'])"
      ]
    },
    {
      "cell_type": "code",
      "execution_count": null,
      "id": "3418489c",
      "metadata": {
        "id": "3418489c",
        "outputId": "b7465789-3661-439d-84ad-9cd9a28506ef"
      },
      "outputs": [
        {
          "data": {
            "text/html": [
              "<div>\n",
              "<style scoped>\n",
              "    .dataframe tbody tr th:only-of-type {\n",
              "        vertical-align: middle;\n",
              "    }\n",
              "\n",
              "    .dataframe tbody tr th {\n",
              "        vertical-align: top;\n",
              "    }\n",
              "\n",
              "    .dataframe thead th {\n",
              "        text-align: right;\n",
              "    }\n",
              "</style>\n",
              "<table border=\"1\" class=\"dataframe\">\n",
              "  <thead>\n",
              "    <tr style=\"text-align: right;\">\n",
              "      <th></th>\n",
              "      <th>FN</th>\n",
              "      <th>Active</th>\n",
              "      <th>club_member_status</th>\n",
              "      <th>fashion_news_frequency</th>\n",
              "      <th>age</th>\n",
              "    </tr>\n",
              "  </thead>\n",
              "  <tbody>\n",
              "    <tr>\n",
              "      <th>0</th>\n",
              "      <td>1.0</td>\n",
              "      <td>1.0</td>\n",
              "      <td>ACTIVE</td>\n",
              "      <td>Regularly</td>\n",
              "      <td>19.0</td>\n",
              "    </tr>\n",
              "    <tr>\n",
              "      <th>1</th>\n",
              "      <td>1.0</td>\n",
              "      <td>1.0</td>\n",
              "      <td>ACTIVE</td>\n",
              "      <td>Regularly</td>\n",
              "      <td>34.0</td>\n",
              "    </tr>\n",
              "    <tr>\n",
              "      <th>2</th>\n",
              "      <td>0.0</td>\n",
              "      <td>0.0</td>\n",
              "      <td>ACTIVE</td>\n",
              "      <td>NONE</td>\n",
              "      <td>49.0</td>\n",
              "    </tr>\n",
              "    <tr>\n",
              "      <th>3</th>\n",
              "      <td>0.0</td>\n",
              "      <td>0.0</td>\n",
              "      <td>ACTIVE</td>\n",
              "      <td>NONE</td>\n",
              "      <td>26.0</td>\n",
              "    </tr>\n",
              "    <tr>\n",
              "      <th>4</th>\n",
              "      <td>0.0</td>\n",
              "      <td>0.0</td>\n",
              "      <td>ACTIVE</td>\n",
              "      <td>NONE</td>\n",
              "      <td>33.0</td>\n",
              "    </tr>\n",
              "    <tr>\n",
              "      <th>...</th>\n",
              "      <td>...</td>\n",
              "      <td>...</td>\n",
              "      <td>...</td>\n",
              "      <td>...</td>\n",
              "      <td>...</td>\n",
              "    </tr>\n",
              "    <tr>\n",
              "      <th>34295</th>\n",
              "      <td>1.0</td>\n",
              "      <td>1.0</td>\n",
              "      <td>ACTIVE</td>\n",
              "      <td>Regularly</td>\n",
              "      <td>57.0</td>\n",
              "    </tr>\n",
              "    <tr>\n",
              "      <th>34296</th>\n",
              "      <td>1.0</td>\n",
              "      <td>1.0</td>\n",
              "      <td>ACTIVE</td>\n",
              "      <td>Regularly</td>\n",
              "      <td>44.0</td>\n",
              "    </tr>\n",
              "    <tr>\n",
              "      <th>34297</th>\n",
              "      <td>0.0</td>\n",
              "      <td>0.0</td>\n",
              "      <td>ACTIVE</td>\n",
              "      <td>NONE</td>\n",
              "      <td>27.0</td>\n",
              "    </tr>\n",
              "    <tr>\n",
              "      <th>34298</th>\n",
              "      <td>1.0</td>\n",
              "      <td>1.0</td>\n",
              "      <td>ACTIVE</td>\n",
              "      <td>Regularly</td>\n",
              "      <td>27.0</td>\n",
              "    </tr>\n",
              "    <tr>\n",
              "      <th>34299</th>\n",
              "      <td>0.0</td>\n",
              "      <td>0.0</td>\n",
              "      <td>ACTIVE</td>\n",
              "      <td>NONE</td>\n",
              "      <td>34.0</td>\n",
              "    </tr>\n",
              "  </tbody>\n",
              "</table>\n",
              "<p>34300 rows × 5 columns</p>\n",
              "</div>"
            ],
            "text/plain": [
              "        FN  Active club_member_status fashion_news_frequency   age\n",
              "0      1.0     1.0             ACTIVE              Regularly  19.0\n",
              "1      1.0     1.0             ACTIVE              Regularly  34.0\n",
              "2      0.0     0.0             ACTIVE                   NONE  49.0\n",
              "3      0.0     0.0             ACTIVE                   NONE  26.0\n",
              "4      0.0     0.0             ACTIVE                   NONE  33.0\n",
              "...    ...     ...                ...                    ...   ...\n",
              "34295  1.0     1.0             ACTIVE              Regularly  57.0\n",
              "34296  1.0     1.0             ACTIVE              Regularly  44.0\n",
              "34297  0.0     0.0             ACTIVE                   NONE  27.0\n",
              "34298  1.0     1.0             ACTIVE              Regularly  27.0\n",
              "34299  0.0     0.0             ACTIVE                   NONE  34.0\n",
              "\n",
              "[34300 rows x 5 columns]"
            ]
          },
          "execution_count": 156,
          "metadata": {},
          "output_type": "execute_result"
        }
      ],
      "source": [
        "X=X.replace(np.nan,0)\n",
        "X"
      ]
    },
    {
      "cell_type": "code",
      "execution_count": null,
      "id": "f06a3c10",
      "metadata": {
        "id": "f06a3c10",
        "outputId": "01ac0a4f-1dd6-42c5-a8f3-e25502d183dd"
      },
      "outputs": [
        {
          "data": {
            "text/plain": [
              "(array([1., 0.]),\n",
              " array([1., 0.]),\n",
              " array(['ACTIVE', 'PRE-CREATE', 0, 'LEFT CLUB'], dtype=object),\n",
              " array(['Regularly', 'NONE', 'Monthly', 0], dtype=object))"
            ]
          },
          "execution_count": 157,
          "metadata": {},
          "output_type": "execute_result"
        }
      ],
      "source": [
        "X.FN.unique(),X.Active.unique(),X.club_member_status.unique(),X.fashion_news_frequency.unique()"
      ]
    },
    {
      "cell_type": "code",
      "execution_count": null,
      "id": "31236bc3",
      "metadata": {
        "id": "31236bc3",
        "outputId": "8693bc6e-44e3-4991-fb09-1046433b2b11"
      },
      "outputs": [
        {
          "name": "stderr",
          "output_type": "stream",
          "text": [
            "C:\\Users\\HARSHA\\AppData\\Local\\Temp\\ipykernel_13728\\3087423762.py:1: SettingWithCopyWarning: \n",
            "A value is trying to be set on a copy of a slice from a DataFrame\n",
            "\n",
            "See the caveats in the documentation: https://pandas.pydata.org/pandas-docs/stable/user_guide/indexing.html#returning-a-view-versus-a-copy\n",
            "  X.club_member_status[X.club_member_status == 'ACTIVE'] = 1\n",
            "C:\\Users\\HARSHA\\AppData\\Local\\Temp\\ipykernel_13728\\3087423762.py:2: SettingWithCopyWarning: \n",
            "A value is trying to be set on a copy of a slice from a DataFrame\n",
            "\n",
            "See the caveats in the documentation: https://pandas.pydata.org/pandas-docs/stable/user_guide/indexing.html#returning-a-view-versus-a-copy\n",
            "  X.club_member_status[X.club_member_status == 'PRE-CREATE'] = 2\n",
            "C:\\Users\\HARSHA\\AppData\\Local\\Temp\\ipykernel_13728\\3087423762.py:3: SettingWithCopyWarning: \n",
            "A value is trying to be set on a copy of a slice from a DataFrame\n",
            "\n",
            "See the caveats in the documentation: https://pandas.pydata.org/pandas-docs/stable/user_guide/indexing.html#returning-a-view-versus-a-copy\n",
            "  X.club_member_status[X.club_member_status == 'LEFT CLUB'] = -1\n",
            "C:\\Users\\HARSHA\\AppData\\Local\\Temp\\ipykernel_13728\\3087423762.py:4: SettingWithCopyWarning: \n",
            "A value is trying to be set on a copy of a slice from a DataFrame\n",
            "\n",
            "See the caveats in the documentation: https://pandas.pydata.org/pandas-docs/stable/user_guide/indexing.html#returning-a-view-versus-a-copy\n",
            "  X.fashion_news_frequency[X.fashion_news_frequency == 'Regularly'] = 1\n",
            "C:\\Users\\HARSHA\\AppData\\Local\\Temp\\ipykernel_13728\\3087423762.py:5: SettingWithCopyWarning: \n",
            "A value is trying to be set on a copy of a slice from a DataFrame\n",
            "\n",
            "See the caveats in the documentation: https://pandas.pydata.org/pandas-docs/stable/user_guide/indexing.html#returning-a-view-versus-a-copy\n",
            "  X.fashion_news_frequency[X.fashion_news_frequency == 'NONE'] = -1\n",
            "C:\\Users\\HARSHA\\AppData\\Local\\Temp\\ipykernel_13728\\3087423762.py:6: SettingWithCopyWarning: \n",
            "A value is trying to be set on a copy of a slice from a DataFrame\n",
            "\n",
            "See the caveats in the documentation: https://pandas.pydata.org/pandas-docs/stable/user_guide/indexing.html#returning-a-view-versus-a-copy\n",
            "  X.fashion_news_frequency[X.fashion_news_frequency == 'Monthly'] = 2\n"
          ]
        }
      ],
      "source": [
        "X.club_member_status[X.club_member_status == 'ACTIVE'] = 1\n",
        "X.club_member_status[X.club_member_status == 'PRE-CREATE'] = 2\n",
        "X.club_member_status[X.club_member_status == 'LEFT CLUB'] = -1\n",
        "X.fashion_news_frequency[X.fashion_news_frequency == 'Regularly'] = 1\n",
        "X.fashion_news_frequency[X.fashion_news_frequency == 'NONE'] = -1\n",
        "X.fashion_news_frequency[X.fashion_news_frequency == 'Monthly'] = 2"
      ]
    },
    {
      "cell_type": "code",
      "execution_count": null,
      "id": "6c05556a",
      "metadata": {
        "id": "6c05556a",
        "outputId": "37cd0fe8-1006-4569-b96f-e386379f07c7"
      },
      "outputs": [
        {
          "data": {
            "text/html": [
              "<div>\n",
              "<style scoped>\n",
              "    .dataframe tbody tr th:only-of-type {\n",
              "        vertical-align: middle;\n",
              "    }\n",
              "\n",
              "    .dataframe tbody tr th {\n",
              "        vertical-align: top;\n",
              "    }\n",
              "\n",
              "    .dataframe thead th {\n",
              "        text-align: right;\n",
              "    }\n",
              "</style>\n",
              "<table border=\"1\" class=\"dataframe\">\n",
              "  <thead>\n",
              "    <tr style=\"text-align: right;\">\n",
              "      <th></th>\n",
              "      <th>FN</th>\n",
              "      <th>Active</th>\n",
              "      <th>club_member_status</th>\n",
              "      <th>fashion_news_frequency</th>\n",
              "      <th>age</th>\n",
              "    </tr>\n",
              "  </thead>\n",
              "  <tbody>\n",
              "    <tr>\n",
              "      <th>0</th>\n",
              "      <td>1.0</td>\n",
              "      <td>1.0</td>\n",
              "      <td>1</td>\n",
              "      <td>1</td>\n",
              "      <td>19.0</td>\n",
              "    </tr>\n",
              "    <tr>\n",
              "      <th>1</th>\n",
              "      <td>1.0</td>\n",
              "      <td>1.0</td>\n",
              "      <td>1</td>\n",
              "      <td>1</td>\n",
              "      <td>34.0</td>\n",
              "    </tr>\n",
              "    <tr>\n",
              "      <th>2</th>\n",
              "      <td>0.0</td>\n",
              "      <td>0.0</td>\n",
              "      <td>1</td>\n",
              "      <td>-1</td>\n",
              "      <td>49.0</td>\n",
              "    </tr>\n",
              "    <tr>\n",
              "      <th>3</th>\n",
              "      <td>0.0</td>\n",
              "      <td>0.0</td>\n",
              "      <td>1</td>\n",
              "      <td>-1</td>\n",
              "      <td>26.0</td>\n",
              "    </tr>\n",
              "    <tr>\n",
              "      <th>4</th>\n",
              "      <td>0.0</td>\n",
              "      <td>0.0</td>\n",
              "      <td>1</td>\n",
              "      <td>-1</td>\n",
              "      <td>33.0</td>\n",
              "    </tr>\n",
              "  </tbody>\n",
              "</table>\n",
              "</div>"
            ],
            "text/plain": [
              "    FN  Active club_member_status fashion_news_frequency   age\n",
              "0  1.0     1.0                  1                      1  19.0\n",
              "1  1.0     1.0                  1                      1  34.0\n",
              "2  0.0     0.0                  1                     -1  49.0\n",
              "3  0.0     0.0                  1                     -1  26.0\n",
              "4  0.0     0.0                  1                     -1  33.0"
            ]
          },
          "execution_count": 159,
          "metadata": {},
          "output_type": "execute_result"
        }
      ],
      "source": [
        "X.head()"
      ]
    },
    {
      "cell_type": "code",
      "execution_count": null,
      "id": "7e6ac4ab",
      "metadata": {
        "id": "7e6ac4ab",
        "outputId": "62e293e7-d707-447f-ba9d-6af44b57288d"
      },
      "outputs": [
        {
          "name": "stdout",
          "output_type": "stream",
          "text": [
            "<class 'pandas.core.frame.DataFrame'>\n",
            "RangeIndex: 34300 entries, 0 to 34299\n",
            "Data columns (total 5 columns):\n",
            " #   Column                  Non-Null Count  Dtype  \n",
            "---  ------                  --------------  -----  \n",
            " 0   FN                      34300 non-null  float64\n",
            " 1   Active                  34300 non-null  float64\n",
            " 2   club_member_status      34300 non-null  object \n",
            " 3   fashion_news_frequency  34300 non-null  object \n",
            " 4   age                     34300 non-null  float64\n",
            "dtypes: float64(3), object(2)\n",
            "memory usage: 1.3+ MB\n"
          ]
        }
      ],
      "source": [
        "X.info()"
      ]
    },
    {
      "cell_type": "code",
      "execution_count": null,
      "id": "fba8f94d",
      "metadata": {
        "id": "fba8f94d"
      },
      "outputs": [],
      "source": [
        "X['club_member_status'] = X['club_member_status'].astype(float)\n",
        "X['fashion_news_frequency'] = X['fashion_news_frequency'].astype(float)"
      ]
    },
    {
      "cell_type": "code",
      "execution_count": null,
      "id": "68ca32e2",
      "metadata": {
        "id": "68ca32e2",
        "outputId": "b02b48ce-b916-4579-86aa-605f3b31c2a1"
      },
      "outputs": [
        {
          "name": "stdout",
          "output_type": "stream",
          "text": [
            "<class 'pandas.core.frame.DataFrame'>\n",
            "RangeIndex: 34300 entries, 0 to 34299\n",
            "Data columns (total 5 columns):\n",
            " #   Column                  Non-Null Count  Dtype\n",
            "---  ------                  --------------  -----\n",
            " 0   FN                      34300 non-null  int32\n",
            " 1   Active                  34300 non-null  int32\n",
            " 2   club_member_status      34300 non-null  int32\n",
            " 3   fashion_news_frequency  34300 non-null  int32\n",
            " 4   age                     34300 non-null  int32\n",
            "dtypes: int32(5)\n",
            "memory usage: 670.0 KB\n"
          ]
        }
      ],
      "source": [
        "\n",
        "X=X.astype(int)\n",
        "X.info()"
      ]
    },
    {
      "cell_type": "code",
      "execution_count": null,
      "id": "4716a3de",
      "metadata": {
        "id": "4716a3de"
      },
      "outputs": [],
      "source": [
        "X_array= X.values"
      ]
    },
    {
      "cell_type": "code",
      "execution_count": null,
      "id": "a6078030",
      "metadata": {
        "id": "a6078030",
        "outputId": "c76622b4-1905-419e-aa7a-157520095348"
      },
      "outputs": [
        {
          "data": {
            "text/plain": [
              "array([[ 1,  1,  1,  1, 19],\n",
              "       [ 1,  1,  1,  1, 34],\n",
              "       [ 0,  0,  1, -1, 49],\n",
              "       ...,\n",
              "       [ 0,  0,  1, -1, 27],\n",
              "       [ 1,  1,  1,  1, 27],\n",
              "       [ 0,  0,  1, -1, 34]])"
            ]
          },
          "execution_count": 174,
          "metadata": {},
          "output_type": "execute_result"
        }
      ],
      "source": [
        "X_array"
      ]
    },
    {
      "cell_type": "code",
      "execution_count": null,
      "id": "06a0b680",
      "metadata": {
        "id": "06a0b680"
      },
      "outputs": [],
      "source": [
        "test=[]\n",
        "for i in range(1,11):\n",
        "    kmeans=KMeans(n_clusters=i,init='k-means++',n_init=10,random_state=23)\n",
        "    kmeans.fit(X_array)\n",
        "    test.append(kmeans.inertia_)"
      ]
    },
    {
      "cell_type": "code",
      "execution_count": null,
      "id": "73d644cf",
      "metadata": {
        "id": "73d644cf",
        "outputId": "fc89022a-2aef-47fe-9f02-8fac45767221"
      },
      "outputs": [
        {
          "data": {
            "text/plain": [
              "[7497840.750845494,\n",
              " 1780310.2444188066,\n",
              " 1128599.1266631547,\n",
              " 722473.1986467098,\n",
              " 532452.6457534635,\n",
              " 371357.6970381951,\n",
              " 276857.1257148909,\n",
              " 214590.5830931298,\n",
              " 179582.3819040675,\n",
              " 155445.12038678027]"
            ]
          },
          "execution_count": 141,
          "metadata": {},
          "output_type": "execute_result"
        }
      ],
      "source": [
        "test"
      ]
    },
    {
      "cell_type": "code",
      "execution_count": null,
      "id": "9ec3fc15",
      "metadata": {
        "id": "9ec3fc15",
        "outputId": "f595b2da-198e-4163-d2fa-a41daa13be33"
      },
      "outputs": [
        {
          "data": {
            "image/png": "[encoded data removed]",
            "text/plain": [
              "<Figure size 864x576 with 1 Axes>"
            ]
          },
          "metadata": {},
          "output_type": "display_data"
        }
      ],
      "source": [
        "plt.figure(figsize=(12,8))\n",
        "plt.plot(range(1,11),test)\n",
        "plt.title('Elbow Method to identify optimal clusters')\n",
        "plt.xlabel('Number of Clusters')\n",
        "plt.ylabel('test cluster inertia value')\n",
        "plt.show()"
      ]
    },
    {
      "cell_type": "markdown",
      "id": "bfbca430",
      "metadata": {
        "id": "bfbca430"
      },
      "source": [
        "#### Optimal Cluster size=2"
      ]
    },
    {
      "cell_type": "code",
      "execution_count": null,
      "id": "63b43e0e",
      "metadata": {
        "id": "63b43e0e"
      },
      "outputs": [],
      "source": [
        "kmeans=KMeans(n_clusters=2,init='k-means++',n_init=10,random_state=23)\n",
        "y_preds=kmeans.fit_transform(X_array)"
      ]
    },
    {
      "cell_type": "code",
      "execution_count": null,
      "id": "a85be7db",
      "metadata": {
        "id": "a85be7db",
        "outputId": "b7fa2863-a450-4bb1-c797-c224939dbfe6"
      },
      "outputs": [
        {
          "data": {
            "text/plain": [
              "(array([[ 0.32790883,  0.31740374,  1.05191577, -0.33091028, 25.86906158],\n",
              "        [ 0.37774524,  0.36934577,  1.08407182, -0.23063882, 52.49071434]]),\n",
              " KMeans(n_clusters=2, random_state=23))"
            ]
          },
          "execution_count": 94,
          "metadata": {},
          "output_type": "execute_result"
        }
      ],
      "source": [
        "kmeans.cluster_centers_,kmeans"
      ]
    },
    {
      "cell_type": "code",
      "execution_count": null,
      "id": "570e0565",
      "metadata": {
        "id": "570e0565"
      },
      "outputs": [],
      "source": [
        "kmeans = KMeans(n_clusters=2, random_state=42)\n",
        "cluster_labels = kmeans.fit_predict(X_array)\n",
        "X[\"clusters\"] = cluster_labels\n"
      ]
    },
    {
      "cell_type": "code",
      "execution_count": null,
      "id": "0ac56276",
      "metadata": {
        "id": "0ac56276"
      },
      "outputs": [],
      "source": [
        "X=X.astype(int)"
      ]
    },
    {
      "cell_type": "code",
      "execution_count": null,
      "id": "b6721d20",
      "metadata": {
        "id": "b6721d20",
        "outputId": "2006ab78-d6d9-41d1-c89f-4afd119dee68"
      },
      "outputs": [
        {
          "data": {
            "text/plain": [
              "<AxesSubplot:xlabel='pc_1', ylabel='pc_2'>"
            ]
          },
          "execution_count": 148,
          "metadata": {},
          "output_type": "execute_result"
        },
        {
          "data": {
            "image/png": "[encoded data removed]",
            "text/plain": [
              "<Figure size 576x396 with 1 Axes>"
            ]
          },
          "metadata": {},
          "output_type": "display_data"
        }
      ],
      "source": [
        "\n",
        "# using PCA to reduce the dimensionality\n",
        "pca = PCA(n_components=2, whiten=False, random_state=42)\n",
        "X_pca_reduce = pca.fit_transform(X)\n",
        "X_pca = pd.DataFrame(data=X_pca_reduce, columns=[\"pc_1\", \"pc_2\"])\n",
        "X_pca[\"clusters\"] = cluster_labels\n",
        "\n",
        "# plotting the clusters with seaborn\n",
        "sns.scatterplot(x=\"pc_1\", y=\"pc_2\", hue=\"clusters\", data=X_pca)"
      ]
    },
    {
      "cell_type": "code",
      "execution_count": null,
      "id": "76fd2124",
      "metadata": {
        "id": "76fd2124"
      },
      "outputs": [],
      "source": [
        "for i in range(1,11):\n",
        "    kmeans=KMeans(n_clusters=i,init='k-means++',n_init=10,random_state=23)\n",
        "    kmeans.fit(X_array)\n",
        "    test.append(kmeans.inertia_)"
      ]
    },
    {
      "cell_type": "code",
      "execution_count": null,
      "id": "beaa4b34",
      "metadata": {
        "id": "beaa4b34",
        "outputId": "728390ae-0845-4a32-b40b-7480510359e1"
      },
      "outputs": [
        {
          "data": {
            "text/plain": [
              "<AxesSubplot:xlabel='pc_1', ylabel='pc_2'>"
            ]
          },
          "execution_count": 182,
          "metadata": {},
          "output_type": "execute_result"
        },
        {
          "data": {
            "image/png": "[encoded data removed]",
            "text/plain": [
              "<Figure size 576x396 with 1 Axes>"
            ]
          },
          "metadata": {},
          "output_type": "display_data"
        }
      ],
      "source": [
        "\n",
        "# using PCA to reduce the dimensionality\n",
        "pca = KernelPCA(n_components=2, kernel='rbf',random_state=42)\n",
        "X_pca_reduce = pca.fit_transform(X)\n",
        "X_pca = pd.DataFrame(data=X_pca_reduce, columns=[\"pc_1\", \"pc_2\"])\n",
        "X_pca[\"clusters\"] = cluster_labels\n",
        "\n",
        "# plotting the clusters with seaborn\n",
        "sns.scatterplot(x=\"pc_1\", y=\"pc_2\", hue=\"clusters\", data=X_pca)"
      ]
    },
    {
      "cell_type": "code",
      "execution_count": null,
      "id": "bdbaf007",
      "metadata": {
        "id": "bdbaf007",
        "outputId": "2c0230e8-2d31-4f77-eae9-52f93dab7622"
      },
      "outputs": [
        {
          "data": {
            "text/plain": [
              "<AxesSubplot:xlabel='pc_1', ylabel='pc_2'>"
            ]
          },
          "execution_count": 183,
          "metadata": {},
          "output_type": "execute_result"
        },
        {
          "data": {
            "image/png": "[encoded data removed]",
            "text/plain": [
              "<Figure size 576x396 with 1 Axes>"
            ]
          },
          "metadata": {},
          "output_type": "display_data"
        }
      ],
      "source": [
        "# using PCA to reduce the dimensionality\n",
        "pca = KernelPCA(n_components=2, kernel='poly',random_state=42)\n",
        "X_pca_reduce = pca.fit_transform(X)\n",
        "X_pca = pd.DataFrame(data=X_pca_reduce, columns=[\"pc_1\", \"pc_2\"])\n",
        "X_pca[\"clusters\"] = cluster_labels\n",
        "\n",
        "# plotting the clusters with seaborn\n",
        "sns.scatterplot(x=\"pc_1\", y=\"pc_2\", hue=\"clusters\", data=X_pca)"
      ]
    },
    {
      "cell_type": "code",
      "execution_count": null,
      "id": "9a0f251a",
      "metadata": {
        "id": "9a0f251a",
        "outputId": "7ab9dfe4-b02e-40f1-9ee6-9a1f4cda2f1d"
      },
      "outputs": [
        {
          "data": {
            "text/plain": [
              "<AxesSubplot:xlabel='pc_1', ylabel='pc_2'>"
            ]
          },
          "execution_count": 184,
          "metadata": {},
          "output_type": "execute_result"
        },
        {
          "data": {
            "image/png": "[encoded data removed]",
            "text/plain": [
              "<Figure size 576x396 with 1 Axes>"
            ]
          },
          "metadata": {},
          "output_type": "display_data"
        }
      ],
      "source": [
        "# using PCA to reduce the dimensionality\n",
        "pca = KernelPCA(n_components=2, kernel='linear',random_state=42)\n",
        "X_pca_reduce = pca.fit_transform(X)\n",
        "X_pca = pd.DataFrame(data=X_pca_reduce, columns=[\"pc_1\", \"pc_2\"])\n",
        "X_pca[\"clusters\"] = cluster_labels\n",
        "\n",
        "# plotting the clusters with seaborn\n",
        "sns.scatterplot(x=\"pc_1\", y=\"pc_2\", hue=\"clusters\", data=X_pca)"
      ]
    },
    {
      "cell_type": "code",
      "execution_count": null,
      "id": "3855f420",
      "metadata": {
        "id": "3855f420",
        "outputId": "fa22d577-ed7f-4329-8b5c-1f59e6caabe2"
      },
      "outputs": [
        {
          "data": {
            "text/html": [
              "<div>\n",
              "<style scoped>\n",
              "    .dataframe tbody tr th:only-of-type {\n",
              "        vertical-align: middle;\n",
              "    }\n",
              "\n",
              "    .dataframe tbody tr th {\n",
              "        vertical-align: top;\n",
              "    }\n",
              "\n",
              "    .dataframe thead th {\n",
              "        text-align: right;\n",
              "    }\n",
              "</style>\n",
              "<table border=\"1\" class=\"dataframe\">\n",
              "  <thead>\n",
              "    <tr style=\"text-align: right;\">\n",
              "      <th></th>\n",
              "      <th>t_dat</th>\n",
              "      <th>customer_id</th>\n",
              "      <th>article_id</th>\n",
              "      <th>price</th>\n",
              "      <th>sales_channel_id</th>\n",
              "    </tr>\n",
              "  </thead>\n",
              "  <tbody>\n",
              "    <tr>\n",
              "      <th>0</th>\n",
              "      <td>9/20/2018</td>\n",
              "      <td>00b6ec8613e51d8eadc5157f5a12ae1366ca29da7d44cc...</td>\n",
              "      <td>529008008</td>\n",
              "      <td>0.013542</td>\n",
              "      <td>2</td>\n",
              "    </tr>\n",
              "    <tr>\n",
              "      <th>1</th>\n",
              "      <td>9/20/2018</td>\n",
              "      <td>00b6ec8613e51d8eadc5157f5a12ae1366ca29da7d44cc...</td>\n",
              "      <td>594633001</td>\n",
              "      <td>0.013542</td>\n",
              "      <td>2</td>\n",
              "    </tr>\n",
              "    <tr>\n",
              "      <th>2</th>\n",
              "      <td>9/20/2018</td>\n",
              "      <td>00b6ec8613e51d8eadc5157f5a12ae1366ca29da7d44cc...</td>\n",
              "      <td>603401002</td>\n",
              "      <td>0.013542</td>\n",
              "      <td>2</td>\n",
              "    </tr>\n",
              "    <tr>\n",
              "      <th>3</th>\n",
              "      <td>9/20/2018</td>\n",
              "      <td>00c59bdfaf753688c62cc13f67382dd54275f776a2f6a6...</td>\n",
              "      <td>678073001</td>\n",
              "      <td>0.024424</td>\n",
              "      <td>2</td>\n",
              "    </tr>\n",
              "    <tr>\n",
              "      <th>4</th>\n",
              "      <td>9/20/2018</td>\n",
              "      <td>00c59bdfaf753688c62cc13f67382dd54275f776a2f6a6...</td>\n",
              "      <td>671515001</td>\n",
              "      <td>0.024424</td>\n",
              "      <td>2</td>\n",
              "    </tr>\n",
              "    <tr>\n",
              "      <th>...</th>\n",
              "      <td>...</td>\n",
              "      <td>...</td>\n",
              "      <td>...</td>\n",
              "      <td>...</td>\n",
              "      <td>...</td>\n",
              "    </tr>\n",
              "    <tr>\n",
              "      <th>723984</th>\n",
              "      <td>9/22/2020</td>\n",
              "      <td>ffcba92c45455b22f54dd02303b057c0a4b9b1f4fcfdf2...</td>\n",
              "      <td>919273002</td>\n",
              "      <td>0.042356</td>\n",
              "      <td>2</td>\n",
              "    </tr>\n",
              "    <tr>\n",
              "      <th>723985</th>\n",
              "      <td>9/22/2020</td>\n",
              "      <td>ffcba92c45455b22f54dd02303b057c0a4b9b1f4fcfdf2...</td>\n",
              "      <td>881448002</td>\n",
              "      <td>0.059305</td>\n",
              "      <td>2</td>\n",
              "    </tr>\n",
              "    <tr>\n",
              "      <th>723986</th>\n",
              "      <td>9/22/2020</td>\n",
              "      <td>ffcba92c45455b22f54dd02303b057c0a4b9b1f4fcfdf2...</td>\n",
              "      <td>919273001</td>\n",
              "      <td>0.042356</td>\n",
              "      <td>2</td>\n",
              "    </tr>\n",
              "    <tr>\n",
              "      <th>723987</th>\n",
              "      <td>9/22/2020</td>\n",
              "      <td>ffcba92c45455b22f54dd02303b057c0a4b9b1f4fcfdf2...</td>\n",
              "      <td>919273004</td>\n",
              "      <td>0.042356</td>\n",
              "      <td>2</td>\n",
              "    </tr>\n",
              "    <tr>\n",
              "      <th>723988</th>\n",
              "      <td>9/22/2020</td>\n",
              "      <td>ffcba92c45455b22f54dd02303b057c0a4b9b1f4fcfdf2...</td>\n",
              "      <td>881448001</td>\n",
              "      <td>0.059305</td>\n",
              "      <td>2</td>\n",
              "    </tr>\n",
              "  </tbody>\n",
              "</table>\n",
              "<p>723989 rows × 5 columns</p>\n",
              "</div>"
            ],
            "text/plain": [
              "            t_dat                                        customer_id  \\\n",
              "0       9/20/2018  00b6ec8613e51d8eadc5157f5a12ae1366ca29da7d44cc...   \n",
              "1       9/20/2018  00b6ec8613e51d8eadc5157f5a12ae1366ca29da7d44cc...   \n",
              "2       9/20/2018  00b6ec8613e51d8eadc5157f5a12ae1366ca29da7d44cc...   \n",
              "3       9/20/2018  00c59bdfaf753688c62cc13f67382dd54275f776a2f6a6...   \n",
              "4       9/20/2018  00c59bdfaf753688c62cc13f67382dd54275f776a2f6a6...   \n",
              "...           ...                                                ...   \n",
              "723984  9/22/2020  ffcba92c45455b22f54dd02303b057c0a4b9b1f4fcfdf2...   \n",
              "723985  9/22/2020  ffcba92c45455b22f54dd02303b057c0a4b9b1f4fcfdf2...   \n",
              "723986  9/22/2020  ffcba92c45455b22f54dd02303b057c0a4b9b1f4fcfdf2...   \n",
              "723987  9/22/2020  ffcba92c45455b22f54dd02303b057c0a4b9b1f4fcfdf2...   \n",
              "723988  9/22/2020  ffcba92c45455b22f54dd02303b057c0a4b9b1f4fcfdf2...   \n",
              "\n",
              "        article_id     price  sales_channel_id  \n",
              "0        529008008  0.013542                 2  \n",
              "1        594633001  0.013542                 2  \n",
              "2        603401002  0.013542                 2  \n",
              "3        678073001  0.024424                 2  \n",
              "4        671515001  0.024424                 2  \n",
              "...            ...       ...               ...  \n",
              "723984   919273002  0.042356                 2  \n",
              "723985   881448002  0.059305                 2  \n",
              "723986   919273001  0.042356                 2  \n",
              "723987   919273004  0.042356                 2  \n",
              "723988   881448001  0.059305                 2  \n",
              "\n",
              "[723989 rows x 5 columns]"
            ]
          },
          "execution_count": 185,
          "metadata": {},
          "output_type": "execute_result"
        }
      ],
      "source": [
        "transaction_subset_df"
      ]
    },
    {
      "cell_type": "code",
      "execution_count": null,
      "id": "8d75f3ae",
      "metadata": {
        "id": "8d75f3ae",
        "outputId": "f4e2a6e7-6f91-45a6-aaf7-e48e21dd10c3"
      },
      "outputs": [
        {
          "data": {
            "text/html": [
              "<div>\n",
              "<style scoped>\n",
              "    .dataframe tbody tr th:only-of-type {\n",
              "        vertical-align: middle;\n",
              "    }\n",
              "\n",
              "    .dataframe tbody tr th {\n",
              "        vertical-align: top;\n",
              "    }\n",
              "\n",
              "    .dataframe thead th {\n",
              "        text-align: right;\n",
              "    }\n",
              "</style>\n",
              "<table border=\"1\" class=\"dataframe\">\n",
              "  <thead>\n",
              "    <tr style=\"text-align: right;\">\n",
              "      <th></th>\n",
              "      <th>article_id</th>\n",
              "      <th>price</th>\n",
              "      <th>sales_channel_id</th>\n",
              "    </tr>\n",
              "  </thead>\n",
              "  <tbody>\n",
              "    <tr>\n",
              "      <th>count</th>\n",
              "      <td>7.239890e+05</td>\n",
              "      <td>723989.000000</td>\n",
              "      <td>723989.000000</td>\n",
              "    </tr>\n",
              "    <tr>\n",
              "      <th>mean</th>\n",
              "      <td>6.968440e+08</td>\n",
              "      <td>0.027671</td>\n",
              "      <td>1.685010</td>\n",
              "    </tr>\n",
              "    <tr>\n",
              "      <th>std</th>\n",
              "      <td>1.321115e+08</td>\n",
              "      <td>0.018859</td>\n",
              "      <td>0.464512</td>\n",
              "    </tr>\n",
              "    <tr>\n",
              "      <th>min</th>\n",
              "      <td>1.087750e+08</td>\n",
              "      <td>0.000271</td>\n",
              "      <td>1.000000</td>\n",
              "    </tr>\n",
              "    <tr>\n",
              "      <th>25%</th>\n",
              "      <td>6.331360e+08</td>\n",
              "      <td>0.015661</td>\n",
              "      <td>1.000000</td>\n",
              "    </tr>\n",
              "    <tr>\n",
              "      <th>50%</th>\n",
              "      <td>7.144210e+08</td>\n",
              "      <td>0.025407</td>\n",
              "      <td>2.000000</td>\n",
              "    </tr>\n",
              "    <tr>\n",
              "      <th>75%</th>\n",
              "      <td>7.863470e+08</td>\n",
              "      <td>0.033881</td>\n",
              "      <td>2.000000</td>\n",
              "    </tr>\n",
              "    <tr>\n",
              "      <th>max</th>\n",
              "      <td>9.537630e+08</td>\n",
              "      <td>0.456102</td>\n",
              "      <td>2.000000</td>\n",
              "    </tr>\n",
              "  </tbody>\n",
              "</table>\n",
              "</div>"
            ],
            "text/plain": [
              "         article_id          price  sales_channel_id\n",
              "count  7.239890e+05  723989.000000     723989.000000\n",
              "mean   6.968440e+08       0.027671          1.685010\n",
              "std    1.321115e+08       0.018859          0.464512\n",
              "min    1.087750e+08       0.000271          1.000000\n",
              "25%    6.331360e+08       0.015661          1.000000\n",
              "50%    7.144210e+08       0.025407          2.000000\n",
              "75%    7.863470e+08       0.033881          2.000000\n",
              "max    9.537630e+08       0.456102          2.000000"
            ]
          },
          "execution_count": 186,
          "metadata": {},
          "output_type": "execute_result"
        }
      ],
      "source": [
        "transaction_subset_df.describe()"
      ]
    },
    {
      "cell_type": "code",
      "execution_count": null,
      "id": "625b9d29",
      "metadata": {
        "id": "625b9d29",
        "outputId": "fc65cefd-7dc5-4816-857e-8e3c3ef17c65"
      },
      "outputs": [
        {
          "data": {
            "text/plain": [
              "min    1/1/2019\n",
              "max    9/9/2020\n",
              "Name: t_dat, dtype: object"
            ]
          },
          "execution_count": 187,
          "metadata": {},
          "output_type": "execute_result"
        }
      ],
      "source": [
        "transaction_subset_df['t_dat'].agg(['min', 'max'])"
      ]
    },
    {
      "cell_type": "code",
      "execution_count": null,
      "id": "d46d2748",
      "metadata": {
        "id": "d46d2748"
      },
      "outputs": [],
      "source": [
        "transaction_subset_df[[\"t_dat\"]] = transaction_subset_df[[\"t_dat\"]].apply(pd.to_datetime)"
      ]
    },
    {
      "cell_type": "code",
      "execution_count": null,
      "id": "4e6a9176",
      "metadata": {
        "id": "4e6a9176",
        "outputId": "cde8f188-328d-49f0-f7ac-aede480650fa"
      },
      "outputs": [
        {
          "data": {
            "text/html": [
              "<div>\n",
              "<style scoped>\n",
              "    .dataframe tbody tr th:only-of-type {\n",
              "        vertical-align: middle;\n",
              "    }\n",
              "\n",
              "    .dataframe tbody tr th {\n",
              "        vertical-align: top;\n",
              "    }\n",
              "\n",
              "    .dataframe thead th {\n",
              "        text-align: right;\n",
              "    }\n",
              "</style>\n",
              "<table border=\"1\" class=\"dataframe\">\n",
              "  <thead>\n",
              "    <tr style=\"text-align: right;\">\n",
              "      <th></th>\n",
              "      <th>t_dat</th>\n",
              "      <th>customer_id</th>\n",
              "      <th>article_id</th>\n",
              "      <th>price</th>\n",
              "      <th>sales_channel_id</th>\n",
              "    </tr>\n",
              "  </thead>\n",
              "  <tbody>\n",
              "    <tr>\n",
              "      <th>0</th>\n",
              "      <td>2018-09-20</td>\n",
              "      <td>00b6ec8613e51d8eadc5157f5a12ae1366ca29da7d44cc...</td>\n",
              "      <td>529008008</td>\n",
              "      <td>0.013542</td>\n",
              "      <td>2</td>\n",
              "    </tr>\n",
              "    <tr>\n",
              "      <th>1</th>\n",
              "      <td>2018-09-20</td>\n",
              "      <td>00b6ec8613e51d8eadc5157f5a12ae1366ca29da7d44cc...</td>\n",
              "      <td>594633001</td>\n",
              "      <td>0.013542</td>\n",
              "      <td>2</td>\n",
              "    </tr>\n",
              "    <tr>\n",
              "      <th>2</th>\n",
              "      <td>2018-09-20</td>\n",
              "      <td>00b6ec8613e51d8eadc5157f5a12ae1366ca29da7d44cc...</td>\n",
              "      <td>603401002</td>\n",
              "      <td>0.013542</td>\n",
              "      <td>2</td>\n",
              "    </tr>\n",
              "    <tr>\n",
              "      <th>3</th>\n",
              "      <td>2018-09-20</td>\n",
              "      <td>00c59bdfaf753688c62cc13f67382dd54275f776a2f6a6...</td>\n",
              "      <td>678073001</td>\n",
              "      <td>0.024424</td>\n",
              "      <td>2</td>\n",
              "    </tr>\n",
              "    <tr>\n",
              "      <th>4</th>\n",
              "      <td>2018-09-20</td>\n",
              "      <td>00c59bdfaf753688c62cc13f67382dd54275f776a2f6a6...</td>\n",
              "      <td>671515001</td>\n",
              "      <td>0.024424</td>\n",
              "      <td>2</td>\n",
              "    </tr>\n",
              "  </tbody>\n",
              "</table>\n",
              "</div>"
            ],
            "text/plain": [
              "       t_dat                                        customer_id  article_id  \\\n",
              "0 2018-09-20  00b6ec8613e51d8eadc5157f5a12ae1366ca29da7d44cc...   529008008   \n",
              "1 2018-09-20  00b6ec8613e51d8eadc5157f5a12ae1366ca29da7d44cc...   594633001   \n",
              "2 2018-09-20  00b6ec8613e51d8eadc5157f5a12ae1366ca29da7d44cc...   603401002   \n",
              "3 2018-09-20  00c59bdfaf753688c62cc13f67382dd54275f776a2f6a6...   678073001   \n",
              "4 2018-09-20  00c59bdfaf753688c62cc13f67382dd54275f776a2f6a6...   671515001   \n",
              "\n",
              "      price  sales_channel_id  \n",
              "0  0.013542                 2  \n",
              "1  0.013542                 2  \n",
              "2  0.013542                 2  \n",
              "3  0.024424                 2  \n",
              "4  0.024424                 2  "
            ]
          },
          "execution_count": 190,
          "metadata": {},
          "output_type": "execute_result"
        }
      ],
      "source": [
        "transaction_subset_df.head()"
      ]
    },
    {
      "cell_type": "code",
      "execution_count": null,
      "id": "da8d6879",
      "metadata": {
        "id": "da8d6879"
      },
      "outputs": [],
      "source": [
        "transaction_time_series=transaction_subset_df"
      ]
    },
    {
      "cell_type": "code",
      "execution_count": null,
      "id": "e501f274",
      "metadata": {
        "id": "e501f274",
        "outputId": "8b2df8bb-b04b-4e53-811c-44337bff7dbb"
      },
      "outputs": [
        {
          "data": {
            "text/plain": [
              "t_dat\n",
              "2018-09-20    32.207424\n",
              "2018-09-21    31.312017\n",
              "2018-09-22    11.492814\n",
              "2018-09-23    34.262763\n",
              "2018-09-24    27.613525\n",
              "                ...    \n",
              "2020-09-18    35.924271\n",
              "2020-09-19    27.141966\n",
              "2020-09-20    24.529491\n",
              "2020-09-21    21.964169\n",
              "2020-09-22    21.655678\n",
              "Name: price, Length: 734, dtype: float64"
            ]
          },
          "execution_count": 227,
          "metadata": {},
          "output_type": "execute_result"
        }
      ],
      "source": [
        "transaction_time_series.groupby(by=\"t_dat\")[\"price\"].sum()"
      ]
    },
    {
      "cell_type": "code",
      "execution_count": null,
      "id": "29f6d9cd",
      "metadata": {
        "id": "29f6d9cd",
        "outputId": "12d10934-aace-439f-b2c6-8dc0104d3b7b"
      },
      "outputs": [
        {
          "data": {
            "text/plain": [
              "t_dat\n",
              "2018-09-20    1092\n",
              "2018-09-21    1051\n",
              "2018-09-22     393\n",
              "2018-09-23    1153\n",
              "2018-09-24     984\n",
              "              ... \n",
              "2020-09-18    1077\n",
              "2020-09-19     845\n",
              "2020-09-20     752\n",
              "2020-09-21     657\n",
              "2020-09-22     646\n",
              "Name: customer_id, Length: 734, dtype: int64"
            ]
          },
          "execution_count": 228,
          "metadata": {},
          "output_type": "execute_result"
        }
      ],
      "source": [
        "transaction_time_series.groupby(by=\"t_dat\")[\"customer_id\"].count()"
      ]
    },
    {
      "cell_type": "code",
      "execution_count": null,
      "id": "67736c62",
      "metadata": {
        "id": "67736c62"
      },
      "outputs": [],
      "source": [
        "date_unique=pd.DataFrame()\n",
        "date_unique['date']=transaction_time_series.t_dat.unique()"
      ]
    },
    {
      "cell_type": "code",
      "execution_count": null,
      "id": "5f38187d",
      "metadata": {
        "id": "5f38187d"
      },
      "outputs": [],
      "source": [
        "date_unique['total_sales']=transaction_time_series.groupby(by=\"t_dat\")[\"price\"].sum().values\n",
        "date_unique['customers_count']=transaction_time_series.groupby(by=\"t_dat\")[\"customer_id\"].count().values\n",
        "date_unique['articles_count']=transaction_time_series.groupby(by=\"t_dat\")[\"article_id\"].count().values"
      ]
    },
    {
      "cell_type": "code",
      "execution_count": null,
      "id": "caf4064f",
      "metadata": {
        "id": "caf4064f",
        "outputId": "d2d33f90-d0d8-4114-a0c7-fd10de70942f"
      },
      "outputs": [
        {
          "data": {
            "text/html": [
              "<div>\n",
              "<style scoped>\n",
              "    .dataframe tbody tr th:only-of-type {\n",
              "        vertical-align: middle;\n",
              "    }\n",
              "\n",
              "    .dataframe tbody tr th {\n",
              "        vertical-align: top;\n",
              "    }\n",
              "\n",
              "    .dataframe thead th {\n",
              "        text-align: right;\n",
              "    }\n",
              "</style>\n",
              "<table border=\"1\" class=\"dataframe\">\n",
              "  <thead>\n",
              "    <tr style=\"text-align: right;\">\n",
              "      <th></th>\n",
              "      <th>date</th>\n",
              "      <th>total_sales</th>\n",
              "      <th>customers_count</th>\n",
              "      <th>articles_count</th>\n",
              "    </tr>\n",
              "  </thead>\n",
              "  <tbody>\n",
              "    <tr>\n",
              "      <th>0</th>\n",
              "      <td>2018-09-20</td>\n",
              "      <td>32.207424</td>\n",
              "      <td>1092</td>\n",
              "      <td>1092</td>\n",
              "    </tr>\n",
              "    <tr>\n",
              "      <th>1</th>\n",
              "      <td>2018-09-21</td>\n",
              "      <td>31.312017</td>\n",
              "      <td>1051</td>\n",
              "      <td>1051</td>\n",
              "    </tr>\n",
              "    <tr>\n",
              "      <th>2</th>\n",
              "      <td>2018-09-22</td>\n",
              "      <td>11.492814</td>\n",
              "      <td>393</td>\n",
              "      <td>393</td>\n",
              "    </tr>\n",
              "    <tr>\n",
              "      <th>3</th>\n",
              "      <td>2018-09-23</td>\n",
              "      <td>34.262763</td>\n",
              "      <td>1153</td>\n",
              "      <td>1153</td>\n",
              "    </tr>\n",
              "    <tr>\n",
              "      <th>4</th>\n",
              "      <td>2018-09-24</td>\n",
              "      <td>27.613525</td>\n",
              "      <td>984</td>\n",
              "      <td>984</td>\n",
              "    </tr>\n",
              "  </tbody>\n",
              "</table>\n",
              "</div>"
            ],
            "text/plain": [
              "        date  total_sales  customers_count  articles_count\n",
              "0 2018-09-20    32.207424             1092            1092\n",
              "1 2018-09-21    31.312017             1051            1051\n",
              "2 2018-09-22    11.492814              393             393\n",
              "3 2018-09-23    34.262763             1153            1153\n",
              "4 2018-09-24    27.613525              984             984"
            ]
          },
          "execution_count": 232,
          "metadata": {},
          "output_type": "execute_result"
        }
      ],
      "source": [
        "date_unique.head()"
      ]
    },
    {
      "cell_type": "code",
      "execution_count": null,
      "id": "1d99c3eb",
      "metadata": {
        "id": "1d99c3eb",
        "outputId": "228bf2e1-53f3-452a-c81a-b756e4cbbb0f"
      },
      "outputs": [
        {
          "data": {
            "text/html": [
              "<div>\n",
              "<style scoped>\n",
              "    .dataframe tbody tr th:only-of-type {\n",
              "        vertical-align: middle;\n",
              "    }\n",
              "\n",
              "    .dataframe tbody tr th {\n",
              "        vertical-align: top;\n",
              "    }\n",
              "\n",
              "    .dataframe thead th {\n",
              "        text-align: right;\n",
              "    }\n",
              "</style>\n",
              "<table border=\"1\" class=\"dataframe\">\n",
              "  <thead>\n",
              "    <tr style=\"text-align: right;\">\n",
              "      <th></th>\n",
              "      <th>total_sales</th>\n",
              "      <th>customers_count</th>\n",
              "      <th>articles_count</th>\n",
              "    </tr>\n",
              "  </thead>\n",
              "  <tbody>\n",
              "    <tr>\n",
              "      <th>count</th>\n",
              "      <td>734.000000</td>\n",
              "      <td>734.000000</td>\n",
              "      <td>734.000000</td>\n",
              "    </tr>\n",
              "    <tr>\n",
              "      <th>mean</th>\n",
              "      <td>27.293273</td>\n",
              "      <td>986.361035</td>\n",
              "      <td>986.361035</td>\n",
              "    </tr>\n",
              "    <tr>\n",
              "      <th>std</th>\n",
              "      <td>9.771178</td>\n",
              "      <td>392.531507</td>\n",
              "      <td>392.531507</td>\n",
              "    </tr>\n",
              "    <tr>\n",
              "      <th>min</th>\n",
              "      <td>6.304136</td>\n",
              "      <td>194.000000</td>\n",
              "      <td>194.000000</td>\n",
              "    </tr>\n",
              "    <tr>\n",
              "      <th>25%</th>\n",
              "      <td>21.717153</td>\n",
              "      <td>757.250000</td>\n",
              "      <td>757.250000</td>\n",
              "    </tr>\n",
              "    <tr>\n",
              "      <th>50%</th>\n",
              "      <td>25.629890</td>\n",
              "      <td>902.000000</td>\n",
              "      <td>902.000000</td>\n",
              "    </tr>\n",
              "    <tr>\n",
              "      <th>75%</th>\n",
              "      <td>29.953102</td>\n",
              "      <td>1097.500000</td>\n",
              "      <td>1097.500000</td>\n",
              "    </tr>\n",
              "    <tr>\n",
              "      <th>max</th>\n",
              "      <td>129.280814</td>\n",
              "      <td>4288.000000</td>\n",
              "      <td>4288.000000</td>\n",
              "    </tr>\n",
              "  </tbody>\n",
              "</table>\n",
              "</div>"
            ],
            "text/plain": [
              "       total_sales  customers_count  articles_count\n",
              "count   734.000000       734.000000      734.000000\n",
              "mean     27.293273       986.361035      986.361035\n",
              "std       9.771178       392.531507      392.531507\n",
              "min       6.304136       194.000000      194.000000\n",
              "25%      21.717153       757.250000      757.250000\n",
              "50%      25.629890       902.000000      902.000000\n",
              "75%      29.953102      1097.500000     1097.500000\n",
              "max     129.280814      4288.000000     4288.000000"
            ]
          },
          "execution_count": 233,
          "metadata": {},
          "output_type": "execute_result"
        }
      ],
      "source": [
        "date_unique.describe()"
      ]
    },
    {
      "cell_type": "code",
      "execution_count": null,
      "id": "d3d30107",
      "metadata": {
        "id": "d3d30107",
        "outputId": "4b31d33d-5b2e-4a1b-8af7-9c8b3326d665"
      },
      "outputs": [
        {
          "data": {
            "text/plain": [
              "<AxesSubplot:xlabel='date', ylabel='total_sales'>"
            ]
          },
          "execution_count": 246,
          "metadata": {},
          "output_type": "execute_result"
        },
        {
          "data": {
            "image/png": "[encoded data removed]",
            "text/plain": [
              "<Figure size 864x576 with 1 Axes>"
            ]
          },
          "metadata": {},
          "output_type": "display_data"
        }
      ],
      "source": [
        "# plt.plot(data=date_unique,x='date',y='total_sales')\n",
        "sns.set(rc={'figure.figsize':(12,8)})\n",
        "sns.lineplot(x = \"date\", y = \"total_sales\", data = date_unique,label = 'Total Sales')"
      ]
    },
    {
      "cell_type": "code",
      "execution_count": null,
      "id": "94bd14c0",
      "metadata": {
        "id": "94bd14c0",
        "outputId": "45e54608-7d39-4c40-8d90-9a1f740d233b"
      },
      "outputs": [
        {
          "data": {
            "text/plain": [
              "<AxesSubplot:xlabel='date', ylabel='customers_count'>"
            ]
          },
          "execution_count": 247,
          "metadata": {},
          "output_type": "execute_result"
        },
        {
          "data": {
            "image/png": "[encoded data removed]",
            "text/plain": [
              "<Figure size 864x576 with 1 Axes>"
            ]
          },
          "metadata": {},
          "output_type": "display_data"
        }
      ],
      "source": [
        "sns.lineplot(x = \"date\", y = \"customers_count\", data = date_unique,label = 'Number of orders by Customers')"
      ]
    },
    {
      "cell_type": "code",
      "execution_count": null,
      "id": "49d07cbf",
      "metadata": {
        "id": "49d07cbf"
      },
      "outputs": [],
      "source": [
        "date_unique[ '7day_rolling_avg' ] = date_unique.total_sales.rolling( 7).mean()"
      ]
    },
    {
      "cell_type": "code",
      "execution_count": null,
      "id": "19d6c7cd",
      "metadata": {
        "id": "19d6c7cd",
        "outputId": "4e4dabf3-5acd-418f-ab1f-c93d8c6d5444"
      },
      "outputs": [
        {
          "data": {
            "text/html": [
              "<div>\n",
              "<style scoped>\n",
              "    .dataframe tbody tr th:only-of-type {\n",
              "        vertical-align: middle;\n",
              "    }\n",
              "\n",
              "    .dataframe tbody tr th {\n",
              "        vertical-align: top;\n",
              "    }\n",
              "\n",
              "    .dataframe thead th {\n",
              "        text-align: right;\n",
              "    }\n",
              "</style>\n",
              "<table border=\"1\" class=\"dataframe\">\n",
              "  <thead>\n",
              "    <tr style=\"text-align: right;\">\n",
              "      <th></th>\n",
              "      <th>date</th>\n",
              "      <th>total_sales</th>\n",
              "      <th>customers_count</th>\n",
              "      <th>articles_count</th>\n",
              "      <th>7day_rolling_avg</th>\n",
              "    </tr>\n",
              "  </thead>\n",
              "  <tbody>\n",
              "    <tr>\n",
              "      <th>0</th>\n",
              "      <td>2018-09-20</td>\n",
              "      <td>32.207424</td>\n",
              "      <td>1092</td>\n",
              "      <td>1092</td>\n",
              "      <td>NaN</td>\n",
              "    </tr>\n",
              "    <tr>\n",
              "      <th>1</th>\n",
              "      <td>2018-09-21</td>\n",
              "      <td>31.312017</td>\n",
              "      <td>1051</td>\n",
              "      <td>1051</td>\n",
              "      <td>NaN</td>\n",
              "    </tr>\n",
              "    <tr>\n",
              "      <th>2</th>\n",
              "      <td>2018-09-22</td>\n",
              "      <td>11.492814</td>\n",
              "      <td>393</td>\n",
              "      <td>393</td>\n",
              "      <td>NaN</td>\n",
              "    </tr>\n",
              "    <tr>\n",
              "      <th>3</th>\n",
              "      <td>2018-09-23</td>\n",
              "      <td>34.262763</td>\n",
              "      <td>1153</td>\n",
              "      <td>1153</td>\n",
              "      <td>NaN</td>\n",
              "    </tr>\n",
              "    <tr>\n",
              "      <th>4</th>\n",
              "      <td>2018-09-24</td>\n",
              "      <td>27.613525</td>\n",
              "      <td>984</td>\n",
              "      <td>984</td>\n",
              "      <td>NaN</td>\n",
              "    </tr>\n",
              "    <tr>\n",
              "      <th>...</th>\n",
              "      <td>...</td>\n",
              "      <td>...</td>\n",
              "      <td>...</td>\n",
              "      <td>...</td>\n",
              "      <td>...</td>\n",
              "    </tr>\n",
              "    <tr>\n",
              "      <th>729</th>\n",
              "      <td>2020-09-18</td>\n",
              "      <td>35.924271</td>\n",
              "      <td>1077</td>\n",
              "      <td>1077</td>\n",
              "      <td>27.658656</td>\n",
              "    </tr>\n",
              "    <tr>\n",
              "      <th>730</th>\n",
              "      <td>2020-09-19</td>\n",
              "      <td>27.141966</td>\n",
              "      <td>845</td>\n",
              "      <td>845</td>\n",
              "      <td>27.365864</td>\n",
              "    </tr>\n",
              "    <tr>\n",
              "      <th>731</th>\n",
              "      <td>2020-09-20</td>\n",
              "      <td>24.529491</td>\n",
              "      <td>752</td>\n",
              "      <td>752</td>\n",
              "      <td>26.006995</td>\n",
              "    </tr>\n",
              "    <tr>\n",
              "      <th>732</th>\n",
              "      <td>2020-09-21</td>\n",
              "      <td>21.964169</td>\n",
              "      <td>657</td>\n",
              "      <td>657</td>\n",
              "      <td>25.585574</td>\n",
              "    </tr>\n",
              "    <tr>\n",
              "      <th>733</th>\n",
              "      <td>2020-09-22</td>\n",
              "      <td>21.655678</td>\n",
              "      <td>646</td>\n",
              "      <td>646</td>\n",
              "      <td>26.082153</td>\n",
              "    </tr>\n",
              "  </tbody>\n",
              "</table>\n",
              "<p>734 rows × 5 columns</p>\n",
              "</div>"
            ],
            "text/plain": [
              "          date  total_sales  customers_count  articles_count  7day_rolling_avg\n",
              "0   2018-09-20    32.207424             1092            1092               NaN\n",
              "1   2018-09-21    31.312017             1051            1051               NaN\n",
              "2   2018-09-22    11.492814              393             393               NaN\n",
              "3   2018-09-23    34.262763             1153            1153               NaN\n",
              "4   2018-09-24    27.613525              984             984               NaN\n",
              "..         ...          ...              ...             ...               ...\n",
              "729 2020-09-18    35.924271             1077            1077         27.658656\n",
              "730 2020-09-19    27.141966              845             845         27.365864\n",
              "731 2020-09-20    24.529491              752             752         26.006995\n",
              "732 2020-09-21    21.964169              657             657         25.585574\n",
              "733 2020-09-22    21.655678              646             646         26.082153\n",
              "\n",
              "[734 rows x 5 columns]"
            ]
          },
          "execution_count": 249,
          "metadata": {},
          "output_type": "execute_result"
        }
      ],
      "source": [
        "date_unique"
      ]
    },
    {
      "cell_type": "code",
      "execution_count": null,
      "id": "89b4d183",
      "metadata": {
        "id": "89b4d183",
        "outputId": "f2a1e2ac-3dad-4a0f-8702-500e15609ec7"
      },
      "outputs": [
        {
          "data": {
            "text/plain": [
              "<AxesSubplot:xlabel='date', ylabel='total_sales'>"
            ]
          },
          "execution_count": 250,
          "metadata": {},
          "output_type": "execute_result"
        },
        {
          "data": {
            "image/png": "[encoded data removed]",
            "text/plain": [
              "<Figure size 864x576 with 1 Axes>"
            ]
          },
          "metadata": {},
          "output_type": "display_data"
        }
      ],
      "source": [
        "sns.lineplot(x = \"date\", y = \"total_sales\", data = date_unique,label = 'Total Sales')\n",
        "sns.lineplot(x = \"date\", y = \"7day_rolling_avg\", data = date_unique,label = '7day_rolling_avg')"
      ]
    },
    {
      "cell_type": "code",
      "execution_count": null,
      "id": "7e256b5a",
      "metadata": {
        "id": "7e256b5a"
      },
      "outputs": [],
      "source": [
        "date_unique['day']=date_unique.date.dt.day\n",
        "date_unique['month']=date_unique.date.dt.month\n",
        "date_unique['week_day']=date_unique.date.dt.weekday"
      ]
    },
    {
      "cell_type": "code",
      "execution_count": null,
      "id": "3370896d",
      "metadata": {
        "id": "3370896d",
        "outputId": "88d12f18-f3de-4596-8b2a-14aeaf82c274"
      },
      "outputs": [
        {
          "data": {
            "text/html": [
              "<div>\n",
              "<style scoped>\n",
              "    .dataframe tbody tr th:only-of-type {\n",
              "        vertical-align: middle;\n",
              "    }\n",
              "\n",
              "    .dataframe tbody tr th {\n",
              "        vertical-align: top;\n",
              "    }\n",
              "\n",
              "    .dataframe thead th {\n",
              "        text-align: right;\n",
              "    }\n",
              "</style>\n",
              "<table border=\"1\" class=\"dataframe\">\n",
              "  <thead>\n",
              "    <tr style=\"text-align: right;\">\n",
              "      <th></th>\n",
              "      <th>date</th>\n",
              "      <th>total_sales</th>\n",
              "      <th>customers_count</th>\n",
              "      <th>articles_count</th>\n",
              "      <th>7day_rolling_avg</th>\n",
              "      <th>day</th>\n",
              "      <th>month</th>\n",
              "      <th>week_day</th>\n",
              "    </tr>\n",
              "  </thead>\n",
              "  <tbody>\n",
              "    <tr>\n",
              "      <th>0</th>\n",
              "      <td>2018-09-20</td>\n",
              "      <td>32.207424</td>\n",
              "      <td>1092</td>\n",
              "      <td>1092</td>\n",
              "      <td>NaN</td>\n",
              "      <td>20</td>\n",
              "      <td>9</td>\n",
              "      <td>3</td>\n",
              "    </tr>\n",
              "    <tr>\n",
              "      <th>1</th>\n",
              "      <td>2018-09-21</td>\n",
              "      <td>31.312017</td>\n",
              "      <td>1051</td>\n",
              "      <td>1051</td>\n",
              "      <td>NaN</td>\n",
              "      <td>21</td>\n",
              "      <td>9</td>\n",
              "      <td>4</td>\n",
              "    </tr>\n",
              "    <tr>\n",
              "      <th>2</th>\n",
              "      <td>2018-09-22</td>\n",
              "      <td>11.492814</td>\n",
              "      <td>393</td>\n",
              "      <td>393</td>\n",
              "      <td>NaN</td>\n",
              "      <td>22</td>\n",
              "      <td>9</td>\n",
              "      <td>5</td>\n",
              "    </tr>\n",
              "    <tr>\n",
              "      <th>3</th>\n",
              "      <td>2018-09-23</td>\n",
              "      <td>34.262763</td>\n",
              "      <td>1153</td>\n",
              "      <td>1153</td>\n",
              "      <td>NaN</td>\n",
              "      <td>23</td>\n",
              "      <td>9</td>\n",
              "      <td>6</td>\n",
              "    </tr>\n",
              "    <tr>\n",
              "      <th>4</th>\n",
              "      <td>2018-09-24</td>\n",
              "      <td>27.613525</td>\n",
              "      <td>984</td>\n",
              "      <td>984</td>\n",
              "      <td>NaN</td>\n",
              "      <td>24</td>\n",
              "      <td>9</td>\n",
              "      <td>0</td>\n",
              "    </tr>\n",
              "    <tr>\n",
              "      <th>...</th>\n",
              "      <td>...</td>\n",
              "      <td>...</td>\n",
              "      <td>...</td>\n",
              "      <td>...</td>\n",
              "      <td>...</td>\n",
              "      <td>...</td>\n",
              "      <td>...</td>\n",
              "      <td>...</td>\n",
              "    </tr>\n",
              "    <tr>\n",
              "      <th>729</th>\n",
              "      <td>2020-09-18</td>\n",
              "      <td>35.924271</td>\n",
              "      <td>1077</td>\n",
              "      <td>1077</td>\n",
              "      <td>27.658656</td>\n",
              "      <td>18</td>\n",
              "      <td>9</td>\n",
              "      <td>4</td>\n",
              "    </tr>\n",
              "    <tr>\n",
              "      <th>730</th>\n",
              "      <td>2020-09-19</td>\n",
              "      <td>27.141966</td>\n",
              "      <td>845</td>\n",
              "      <td>845</td>\n",
              "      <td>27.365864</td>\n",
              "      <td>19</td>\n",
              "      <td>9</td>\n",
              "      <td>5</td>\n",
              "    </tr>\n",
              "    <tr>\n",
              "      <th>731</th>\n",
              "      <td>2020-09-20</td>\n",
              "      <td>24.529491</td>\n",
              "      <td>752</td>\n",
              "      <td>752</td>\n",
              "      <td>26.006995</td>\n",
              "      <td>20</td>\n",
              "      <td>9</td>\n",
              "      <td>6</td>\n",
              "    </tr>\n",
              "    <tr>\n",
              "      <th>732</th>\n",
              "      <td>2020-09-21</td>\n",
              "      <td>21.964169</td>\n",
              "      <td>657</td>\n",
              "      <td>657</td>\n",
              "      <td>25.585574</td>\n",
              "      <td>21</td>\n",
              "      <td>9</td>\n",
              "      <td>0</td>\n",
              "    </tr>\n",
              "    <tr>\n",
              "      <th>733</th>\n",
              "      <td>2020-09-22</td>\n",
              "      <td>21.655678</td>\n",
              "      <td>646</td>\n",
              "      <td>646</td>\n",
              "      <td>26.082153</td>\n",
              "      <td>22</td>\n",
              "      <td>9</td>\n",
              "      <td>1</td>\n",
              "    </tr>\n",
              "  </tbody>\n",
              "</table>\n",
              "<p>734 rows × 8 columns</p>\n",
              "</div>"
            ],
            "text/plain": [
              "          date  total_sales  customers_count  articles_count  \\\n",
              "0   2018-09-20    32.207424             1092            1092   \n",
              "1   2018-09-21    31.312017             1051            1051   \n",
              "2   2018-09-22    11.492814              393             393   \n",
              "3   2018-09-23    34.262763             1153            1153   \n",
              "4   2018-09-24    27.613525              984             984   \n",
              "..         ...          ...              ...             ...   \n",
              "729 2020-09-18    35.924271             1077            1077   \n",
              "730 2020-09-19    27.141966              845             845   \n",
              "731 2020-09-20    24.529491              752             752   \n",
              "732 2020-09-21    21.964169              657             657   \n",
              "733 2020-09-22    21.655678              646             646   \n",
              "\n",
              "     7day_rolling_avg  day  month  week_day  \n",
              "0                 NaN   20      9         3  \n",
              "1                 NaN   21      9         4  \n",
              "2                 NaN   22      9         5  \n",
              "3                 NaN   23      9         6  \n",
              "4                 NaN   24      9         0  \n",
              "..                ...  ...    ...       ...  \n",
              "729         27.658656   18      9         4  \n",
              "730         27.365864   19      9         5  \n",
              "731         26.006995   20      9         6  \n",
              "732         25.585574   21      9         0  \n",
              "733         26.082153   22      9         1  \n",
              "\n",
              "[734 rows x 8 columns]"
            ]
          },
          "execution_count": 256,
          "metadata": {},
          "output_type": "execute_result"
        }
      ],
      "source": [
        "date_unique"
      ]
    },
    {
      "cell_type": "code",
      "execution_count": null,
      "id": "e86cebec",
      "metadata": {
        "id": "e86cebec",
        "outputId": "284f122a-c683-4ef8-8ecc-54351c29709a"
      },
      "outputs": [
        {
          "name": "stderr",
          "output_type": "stream",
          "text": [
            "C:\\Users\\HARSHA\\AppData\\Local\\Temp\\ipykernel_13728\\266962879.py:1: FutureWarning: pad is deprecated and will be removed in a future version. Use ffill instead.\n",
            "  date_unique = date_unique.set_index('date').resample('1H').pad()\n"
          ]
        },
        {
          "data": {
            "text/plain": [
              "<AxesSubplot:xlabel='date'>"
            ]
          },
          "execution_count": 259,
          "metadata": {},
          "output_type": "execute_result"
        },
        {
          "data": {
            "image/png": "[encoded data removed]",
            "text/plain": [
              "<Figure size 864x576 with 1 Axes>"
            ]
          },
          "metadata": {},
          "output_type": "display_data"
        }
      ],
      "source": [
        "date_unique = date_unique.set_index('date').resample('1H').pad()\n",
        "date_unique['total_sales'].resample('W').mean().plot()"
      ]
    },
    {
      "cell_type": "code",
      "execution_count": null,
      "id": "8f0d6efd",
      "metadata": {
        "id": "8f0d6efd",
        "outputId": "98a510b3-bb5d-49d2-9f2d-562df2ff38ff"
      },
      "outputs": [
        {
          "data": {
            "text/plain": [
              "<AxesSubplot:xlabel='date'>"
            ]
          },
          "execution_count": 260,
          "metadata": {},
          "output_type": "execute_result"
        },
        {
          "data": {
            "image/png": "[encoded data removed]",
            "text/plain": [
              "<Figure size 864x576 with 1 Axes>"
            ]
          },
          "metadata": {},
          "output_type": "display_data"
        }
      ],
      "source": [
        "date_unique['total_sales'].resample('M').mean().plot()"
      ]
    },
    {
      "cell_type": "code",
      "execution_count": null,
      "id": "56891e2e",
      "metadata": {
        "id": "56891e2e",
        "outputId": "17cff44e-a2fd-41d9-f8ff-5ec13c4d8962"
      },
      "outputs": [
        {
          "data": {
            "text/html": [
              "<div>\n",
              "<style scoped>\n",
              "    .dataframe tbody tr th:only-of-type {\n",
              "        vertical-align: middle;\n",
              "    }\n",
              "\n",
              "    .dataframe tbody tr th {\n",
              "        vertical-align: top;\n",
              "    }\n",
              "\n",
              "    .dataframe thead th {\n",
              "        text-align: right;\n",
              "    }\n",
              "</style>\n",
              "<table border=\"1\" class=\"dataframe\">\n",
              "  <thead>\n",
              "    <tr style=\"text-align: right;\">\n",
              "      <th></th>\n",
              "      <th>total_sales</th>\n",
              "      <th>customers_count</th>\n",
              "      <th>articles_count</th>\n",
              "      <th>7day_rolling_avg</th>\n",
              "      <th>day</th>\n",
              "      <th>month</th>\n",
              "      <th>week_day</th>\n",
              "    </tr>\n",
              "    <tr>\n",
              "      <th>date</th>\n",
              "      <th></th>\n",
              "      <th></th>\n",
              "      <th></th>\n",
              "      <th></th>\n",
              "      <th></th>\n",
              "      <th></th>\n",
              "      <th></th>\n",
              "    </tr>\n",
              "  </thead>\n",
              "  <tbody>\n",
              "    <tr>\n",
              "      <th>2018-09-20 00:00:00</th>\n",
              "      <td>32.207424</td>\n",
              "      <td>1092</td>\n",
              "      <td>1092</td>\n",
              "      <td>NaN</td>\n",
              "      <td>20</td>\n",
              "      <td>9</td>\n",
              "      <td>3</td>\n",
              "    </tr>\n",
              "    <tr>\n",
              "      <th>2018-09-20 01:00:00</th>\n",
              "      <td>32.207424</td>\n",
              "      <td>1092</td>\n",
              "      <td>1092</td>\n",
              "      <td>NaN</td>\n",
              "      <td>20</td>\n",
              "      <td>9</td>\n",
              "      <td>3</td>\n",
              "    </tr>\n",
              "    <tr>\n",
              "      <th>2018-09-20 02:00:00</th>\n",
              "      <td>32.207424</td>\n",
              "      <td>1092</td>\n",
              "      <td>1092</td>\n",
              "      <td>NaN</td>\n",
              "      <td>20</td>\n",
              "      <td>9</td>\n",
              "      <td>3</td>\n",
              "    </tr>\n",
              "    <tr>\n",
              "      <th>2018-09-20 03:00:00</th>\n",
              "      <td>32.207424</td>\n",
              "      <td>1092</td>\n",
              "      <td>1092</td>\n",
              "      <td>NaN</td>\n",
              "      <td>20</td>\n",
              "      <td>9</td>\n",
              "      <td>3</td>\n",
              "    </tr>\n",
              "    <tr>\n",
              "      <th>2018-09-20 04:00:00</th>\n",
              "      <td>32.207424</td>\n",
              "      <td>1092</td>\n",
              "      <td>1092</td>\n",
              "      <td>NaN</td>\n",
              "      <td>20</td>\n",
              "      <td>9</td>\n",
              "      <td>3</td>\n",
              "    </tr>\n",
              "    <tr>\n",
              "      <th>...</th>\n",
              "      <td>...</td>\n",
              "      <td>...</td>\n",
              "      <td>...</td>\n",
              "      <td>...</td>\n",
              "      <td>...</td>\n",
              "      <td>...</td>\n",
              "      <td>...</td>\n",
              "    </tr>\n",
              "    <tr>\n",
              "      <th>2020-09-21 20:00:00</th>\n",
              "      <td>21.964169</td>\n",
              "      <td>657</td>\n",
              "      <td>657</td>\n",
              "      <td>25.585574</td>\n",
              "      <td>21</td>\n",
              "      <td>9</td>\n",
              "      <td>0</td>\n",
              "    </tr>\n",
              "    <tr>\n",
              "      <th>2020-09-21 21:00:00</th>\n",
              "      <td>21.964169</td>\n",
              "      <td>657</td>\n",
              "      <td>657</td>\n",
              "      <td>25.585574</td>\n",
              "      <td>21</td>\n",
              "      <td>9</td>\n",
              "      <td>0</td>\n",
              "    </tr>\n",
              "    <tr>\n",
              "      <th>2020-09-21 22:00:00</th>\n",
              "      <td>21.964169</td>\n",
              "      <td>657</td>\n",
              "      <td>657</td>\n",
              "      <td>25.585574</td>\n",
              "      <td>21</td>\n",
              "      <td>9</td>\n",
              "      <td>0</td>\n",
              "    </tr>\n",
              "    <tr>\n",
              "      <th>2020-09-21 23:00:00</th>\n",
              "      <td>21.964169</td>\n",
              "      <td>657</td>\n",
              "      <td>657</td>\n",
              "      <td>25.585574</td>\n",
              "      <td>21</td>\n",
              "      <td>9</td>\n",
              "      <td>0</td>\n",
              "    </tr>\n",
              "    <tr>\n",
              "      <th>2020-09-22 00:00:00</th>\n",
              "      <td>21.655678</td>\n",
              "      <td>646</td>\n",
              "      <td>646</td>\n",
              "      <td>26.082153</td>\n",
              "      <td>22</td>\n",
              "      <td>9</td>\n",
              "      <td>1</td>\n",
              "    </tr>\n",
              "  </tbody>\n",
              "</table>\n",
              "<p>17593 rows × 7 columns</p>\n",
              "</div>"
            ],
            "text/plain": [
              "                     total_sales  customers_count  articles_count  \\\n",
              "date                                                                \n",
              "2018-09-20 00:00:00    32.207424             1092            1092   \n",
              "2018-09-20 01:00:00    32.207424             1092            1092   \n",
              "2018-09-20 02:00:00    32.207424             1092            1092   \n",
              "2018-09-20 03:00:00    32.207424             1092            1092   \n",
              "2018-09-20 04:00:00    32.207424             1092            1092   \n",
              "...                          ...              ...             ...   \n",
              "2020-09-21 20:00:00    21.964169              657             657   \n",
              "2020-09-21 21:00:00    21.964169              657             657   \n",
              "2020-09-21 22:00:00    21.964169              657             657   \n",
              "2020-09-21 23:00:00    21.964169              657             657   \n",
              "2020-09-22 00:00:00    21.655678              646             646   \n",
              "\n",
              "                     7day_rolling_avg  day  month  week_day  \n",
              "date                                                         \n",
              "2018-09-20 00:00:00               NaN   20      9         3  \n",
              "2018-09-20 01:00:00               NaN   20      9         3  \n",
              "2018-09-20 02:00:00               NaN   20      9         3  \n",
              "2018-09-20 03:00:00               NaN   20      9         3  \n",
              "2018-09-20 04:00:00               NaN   20      9         3  \n",
              "...                               ...  ...    ...       ...  \n",
              "2020-09-21 20:00:00         25.585574   21      9         0  \n",
              "2020-09-21 21:00:00         25.585574   21      9         0  \n",
              "2020-09-21 22:00:00         25.585574   21      9         0  \n",
              "2020-09-21 23:00:00         25.585574   21      9         0  \n",
              "2020-09-22 00:00:00         26.082153   22      9         1  \n",
              "\n",
              "[17593 rows x 7 columns]"
            ]
          },
          "execution_count": 261,
          "metadata": {},
          "output_type": "execute_result"
        }
      ],
      "source": [
        "date_unique"
      ]
    },
    {
      "cell_type": "code",
      "execution_count": null,
      "id": "a96fd2b4",
      "metadata": {
        "id": "a96fd2b4",
        "outputId": "8d409214-53f2-48a9-8f46-3e200a7a959e"
      },
      "outputs": [
        {
          "name": "stdout",
          "output_type": "stream",
          "text": [
            "\n",
            "Note: you may need to restart the kernel to use updated packages.\n"
          ]
        }
      ],
      "source": []
    },
    {
      "cell_type": "code",
      "execution_count": null,
      "id": "f26aac50",
      "metadata": {
        "id": "f26aac50"
      },
      "outputs": [],
      "source": []
    }
  ],
  "metadata": {
    "kernelspec": {
      "display_name": "Python 3 (ipykernel)",
      "language": "python",
      "name": "python3"
    },
    "language_info": {
      "codemirror_mode": {
        "name": "ipython",
        "version": 3
      },
      "file_extension": ".py",
      "mimetype": "text/x-python",
      "name": "python",
      "nbconvert_exporter": "python",
      "pygments_lexer": "ipython3",
      "version": "3.9.12"
    },
    "colab": {
      "provenance": []
    }
  },
  "nbformat": 4,
  "nbformat_minor": 5
}